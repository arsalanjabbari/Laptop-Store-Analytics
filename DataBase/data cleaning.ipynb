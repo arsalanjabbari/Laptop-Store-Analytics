{
 "cells": [
  {
   "cell_type": "code",
   "execution_count": 6,
   "id": "initial_id",
   "metadata": {
    "collapsed": true,
    "ExecuteTime": {
     "end_time": "2023-10-18T09:06:29.415427400Z",
     "start_time": "2023-10-18T09:06:29.367696300Z"
    },
    "pycharm": {
     "name": "#%%\n"
    }
   },
   "outputs": [],
   "source": [
    "import pandas as pd\n"
   ]
  },
  {
   "cell_type": "code",
   "execution_count": 14,
   "outputs": [],
   "source": [
    "df_data_sales = pd.read_csv('C:\\Pedram\\quera\\Laptop_analysis_and_Warehousing_g3\\Data Source\\sales_data.csv')\n",
    "#df_data_sales\n",
    "df_data_sales"
   ],
   "metadata": {
    "collapsed": false,
    "ExecuteTime": {
     "end_time": "2023-10-18T09:06:31.864184200Z",
     "start_time": "2023-10-18T09:06:29.372839300Z"
    },
    "pycharm": {
     "name": "#%%\n"
    }
   },
   "id": "8510a02f3261f4ef"
  },
  {
   "cell_type": "code",
   "execution_count": 39,
   "outputs": [
    {
     "data": {
      "text/plain": "        Manufacturer                               Model_Name  \\\n0               Dell                              Vostro 3568   \n1             Lenovo                           Yoga 720-13IKB   \n2             Lenovo                       IdeaPad Y700-15ISK   \n3               Dell                            Inspiron 5370   \n4               Acer                           Aspire E5-576G   \n...              ...                                      ...   \n1017076       Lenovo                       Legion Y520-15IKBN   \n1017077       Lenovo  V330-15IKB (i5-8250U/4GB/500GB/FHD/W10)   \n1017078         Dell                              Vostro 5568   \n1017079           HP                          Envy 13-AB020nr   \n1017080         Dell                            Inspiron 3567   \n\n                   Category Screen_Size  \\\n0                  Notebook       15.6\"   \n1        2 in 1 Convertible       13.3\"   \n2                  Notebook       15.6\"   \n3                 Ultrabook       13.3\"   \n4                  Notebook       15.6\"   \n...                     ...         ...   \n1017076              Gaming       15.6\"   \n1017077            Notebook       15.6\"   \n1017078            Notebook       15.6\"   \n1017079           Ultrabook       13.3\"   \n1017080            Notebook       15.6\"   \n\n                                            Screen  \\\n0                                Full HD 1920x1080   \n1        IPS Panel Full HD / Touchscreen 1920x1080   \n2                      IPS Panel Full HD 1920x1080   \n3                      IPS Panel Full HD 1920x1080   \n4                                Full HD 1920x1080   \n...                                            ...   \n1017076                IPS Panel Full HD 1920x1080   \n1017077                          Full HD 1920x1080   \n1017078                          Full HD 1920x1080   \n1017079               IPS Panel Quad HD+ 3200x1800   \n1017080                          Full HD 1920x1080   \n\n                                 CPU  RAM    Storage                      GPU  \\\n0         Intel Core i5 7200U 2.5GHz  8GB  256GB SSD       AMD Radeon R5 M420   \n1         Intel Core i5 7200U 2.5GHz  8GB  256GB SSD    Intel HD Graphics 620   \n2        Intel Core i7 6700HQ 2.6GHz  8GB    1TB HDD  Nvidia GeForce GTX 960M   \n3         Intel Core i7 8550U 1.8GHz  8GB  256GB SSD           AMD Radeon 530   \n4         Intel Core i5 7200U 2.5GHz  4GB  256GB SSD     Nvidia GeForce 940MX   \n...                              ...  ...        ...                      ...   \n1017076  Intel Core i7 7700HQ 2.8GHz  4GB    1TB HDD  Nvidia GeForce GTX 1050   \n1017077   Intel Core i5 8250U 1.6GHz  4GB  500GB HDD    Intel HD Graphics 620   \n1017078   Intel Core i5 7200U 2.5GHz  8GB    1TB HDD    Intel HD Graphics 620   \n1017079   Intel Core i7 7500U 2.7GHz  8GB  256GB SSD    Intel HD Graphics 620   \n1017080   Intel Core i5 7200U 2.5GHz  4GB  256GB SSD       AMD Radeon R5 M430   \n\n              OS OS_Version  Weight  \n0        Windows         10  2.18kg  \n1        Windows         10   1.3kg  \n2        Windows         10   2.6kg  \n3        Windows         10   1.4kg  \n4        Windows         10  2.23kg  \n...          ...        ...     ...  \n1017076  Windows         10   2.4kg  \n1017077  Windows         10  2.05kg  \n1017078    Linux        NaN  1.98kg  \n1017079  Windows         10  1.34kg  \n1017080  Windows         10   2.3kg  \n\n[1017081 rows x 12 columns]",
      "text/html": "<div>\n<style scoped>\n    .dataframe tbody tr th:only-of-type {\n        vertical-align: middle;\n    }\n\n    .dataframe tbody tr th {\n        vertical-align: top;\n    }\n\n    .dataframe thead th {\n        text-align: right;\n    }\n</style>\n<table border=\"1\" class=\"dataframe\">\n  <thead>\n    <tr style=\"text-align: right;\">\n      <th></th>\n      <th>Manufacturer</th>\n      <th>Model_Name</th>\n      <th>Category</th>\n      <th>Screen_Size</th>\n      <th>Screen</th>\n      <th>CPU</th>\n      <th>RAM</th>\n      <th>Storage</th>\n      <th>GPU</th>\n      <th>OS</th>\n      <th>OS_Version</th>\n      <th>Weight</th>\n    </tr>\n  </thead>\n  <tbody>\n    <tr>\n      <th>0</th>\n      <td>Dell</td>\n      <td>Vostro 3568</td>\n      <td>Notebook</td>\n      <td>15.6\"</td>\n      <td>Full HD 1920x1080</td>\n      <td>Intel Core i5 7200U 2.5GHz</td>\n      <td>8GB</td>\n      <td>256GB SSD</td>\n      <td>AMD Radeon R5 M420</td>\n      <td>Windows</td>\n      <td>10</td>\n      <td>2.18kg</td>\n    </tr>\n    <tr>\n      <th>1</th>\n      <td>Lenovo</td>\n      <td>Yoga 720-13IKB</td>\n      <td>2 in 1 Convertible</td>\n      <td>13.3\"</td>\n      <td>IPS Panel Full HD / Touchscreen 1920x1080</td>\n      <td>Intel Core i5 7200U 2.5GHz</td>\n      <td>8GB</td>\n      <td>256GB SSD</td>\n      <td>Intel HD Graphics 620</td>\n      <td>Windows</td>\n      <td>10</td>\n      <td>1.3kg</td>\n    </tr>\n    <tr>\n      <th>2</th>\n      <td>Lenovo</td>\n      <td>IdeaPad Y700-15ISK</td>\n      <td>Notebook</td>\n      <td>15.6\"</td>\n      <td>IPS Panel Full HD 1920x1080</td>\n      <td>Intel Core i7 6700HQ 2.6GHz</td>\n      <td>8GB</td>\n      <td>1TB HDD</td>\n      <td>Nvidia GeForce GTX 960M</td>\n      <td>Windows</td>\n      <td>10</td>\n      <td>2.6kg</td>\n    </tr>\n    <tr>\n      <th>3</th>\n      <td>Dell</td>\n      <td>Inspiron 5370</td>\n      <td>Ultrabook</td>\n      <td>13.3\"</td>\n      <td>IPS Panel Full HD 1920x1080</td>\n      <td>Intel Core i7 8550U 1.8GHz</td>\n      <td>8GB</td>\n      <td>256GB SSD</td>\n      <td>AMD Radeon 530</td>\n      <td>Windows</td>\n      <td>10</td>\n      <td>1.4kg</td>\n    </tr>\n    <tr>\n      <th>4</th>\n      <td>Acer</td>\n      <td>Aspire E5-576G</td>\n      <td>Notebook</td>\n      <td>15.6\"</td>\n      <td>Full HD 1920x1080</td>\n      <td>Intel Core i5 7200U 2.5GHz</td>\n      <td>4GB</td>\n      <td>256GB SSD</td>\n      <td>Nvidia GeForce 940MX</td>\n      <td>Windows</td>\n      <td>10</td>\n      <td>2.23kg</td>\n    </tr>\n    <tr>\n      <th>...</th>\n      <td>...</td>\n      <td>...</td>\n      <td>...</td>\n      <td>...</td>\n      <td>...</td>\n      <td>...</td>\n      <td>...</td>\n      <td>...</td>\n      <td>...</td>\n      <td>...</td>\n      <td>...</td>\n      <td>...</td>\n    </tr>\n    <tr>\n      <th>1017076</th>\n      <td>Lenovo</td>\n      <td>Legion Y520-15IKBN</td>\n      <td>Gaming</td>\n      <td>15.6\"</td>\n      <td>IPS Panel Full HD 1920x1080</td>\n      <td>Intel Core i7 7700HQ 2.8GHz</td>\n      <td>4GB</td>\n      <td>1TB HDD</td>\n      <td>Nvidia GeForce GTX 1050</td>\n      <td>Windows</td>\n      <td>10</td>\n      <td>2.4kg</td>\n    </tr>\n    <tr>\n      <th>1017077</th>\n      <td>Lenovo</td>\n      <td>V330-15IKB (i5-8250U/4GB/500GB/FHD/W10)</td>\n      <td>Notebook</td>\n      <td>15.6\"</td>\n      <td>Full HD 1920x1080</td>\n      <td>Intel Core i5 8250U 1.6GHz</td>\n      <td>4GB</td>\n      <td>500GB HDD</td>\n      <td>Intel HD Graphics 620</td>\n      <td>Windows</td>\n      <td>10</td>\n      <td>2.05kg</td>\n    </tr>\n    <tr>\n      <th>1017078</th>\n      <td>Dell</td>\n      <td>Vostro 5568</td>\n      <td>Notebook</td>\n      <td>15.6\"</td>\n      <td>Full HD 1920x1080</td>\n      <td>Intel Core i5 7200U 2.5GHz</td>\n      <td>8GB</td>\n      <td>1TB HDD</td>\n      <td>Intel HD Graphics 620</td>\n      <td>Linux</td>\n      <td>NaN</td>\n      <td>1.98kg</td>\n    </tr>\n    <tr>\n      <th>1017079</th>\n      <td>HP</td>\n      <td>Envy 13-AB020nr</td>\n      <td>Ultrabook</td>\n      <td>13.3\"</td>\n      <td>IPS Panel Quad HD+ 3200x1800</td>\n      <td>Intel Core i7 7500U 2.7GHz</td>\n      <td>8GB</td>\n      <td>256GB SSD</td>\n      <td>Intel HD Graphics 620</td>\n      <td>Windows</td>\n      <td>10</td>\n      <td>1.34kg</td>\n    </tr>\n    <tr>\n      <th>1017080</th>\n      <td>Dell</td>\n      <td>Inspiron 3567</td>\n      <td>Notebook</td>\n      <td>15.6\"</td>\n      <td>Full HD 1920x1080</td>\n      <td>Intel Core i5 7200U 2.5GHz</td>\n      <td>4GB</td>\n      <td>256GB SSD</td>\n      <td>AMD Radeon R5 M430</td>\n      <td>Windows</td>\n      <td>10</td>\n      <td>2.3kg</td>\n    </tr>\n  </tbody>\n</table>\n<p>1017081 rows × 12 columns</p>\n</div>"
     },
     "execution_count": 39,
     "metadata": {},
     "output_type": "execute_result"
    }
   ],
   "source": [
    "# make new df for data injection \n",
    "df_laptop = df_data_sales.copy()\n",
    "df_laptop.drop(columns=['Order_ID','Branch', 'Order_Date', 'Order_Priority', 'Quantity' , 'Discount', 'Total_Price', 'Profit', 'Ship_Duration', 'Price' ] , axis=1 , inplace=True)\n",
    "df_laptop"
   ],
   "metadata": {
    "collapsed": false,
    "ExecuteTime": {
     "end_time": "2023-10-18T09:06:32.046559600Z",
     "start_time": "2023-10-18T09:06:31.870297300Z"
    },
    "pycharm": {
     "name": "#%%\n"
    }
   },
   "id": "86786f6f2cd5f8c3"
  },
  {
   "cell_type": "code",
   "execution_count": 66,
   "outputs": [],
   "source": [
    "# loa\n",
    "df_dollar=pd.read_csv('D:\\quera\\\\bootcamp\\examples\\Laptop_analysis_and_Warehousing_g3\\Data Source\\\\dollar.csv')\n",
    "df_dollar_c=df_dollar[['0','1','2','3','7','6']].copy()\n",
    "df_dollar_c['0']=df_dollar_c['0'].apply(lambda x:int(x.replace(',','')))\n",
    "df_dollar_c['1']=df_dollar_c['1'].apply(lambda x:int(x.replace(',','')))\n",
    "df_dollar_c['2']=df_dollar_c['2'].apply(lambda x:int(x.replace(',','')))\n",
    "df_dollar_c['3']=df_dollar_c['3'].apply(lambda x:int(x.replace(',','')))\n",
    "df_dollar_c['6']=pd.to_datetime(df_dollar_c['6'])\n",
    "df_dollar_c.rename(columns={'0':'open','1':'low','2':'high','3':'close','7':'jdate','6':'gdate'},inplace=True)"
   ],
   "metadata": {
    "collapsed": false,
    "pycharm": {
     "name": "#%%\n"
    }
   }
  },
  {
   "cell_type": "code",
   "execution_count": 90,
   "outputs": [],
   "source": [
    "df_all_data=pd.read_csv('D:\\quera\\\\bootcamp\\examples\\Laptop_analysis_and_Warehousing_g3\\Data Source\\\\all_data_c.csv')\n",
    "df_product=df_all_data[['Id','Title','Manufacturer','StockStatus','Site']].copy()\n",
    "df_product_at=df_all_data[['Id','Attributes']].copy()\n",
    "df_product.rename(columns={'Id':'ID','StockStatus':'StockSatus'},inplace=True)\n",
    "df_product=df_product.drop_duplicates()\n",
    "df_product_at.rename(columns={'Id':'ID'},inplace=True)\n",
    "df_product_at=df_product_at.drop_duplicates()"
   ],
   "metadata": {
    "collapsed": false,
    "pycharm": {
     "name": "#%%\n"
    }
   }
  },
  {
   "cell_type": "code",
   "execution_count": 108,
   "outputs": [
    {
     "data": {
      "text/plain": "      ID             Name   City           Type\n0      0         تکنولایف  تهران  خرید اینترنتی\n1      1          افراشاپ  تهران  خرید اینترنتی\n2      2     بهینه پردازش  تهران  خرید اینترنتی\n3      3      مقداد آی تی  تهران  خرید اینترنتی\n4      4        تاپ رایان  تهران  خرید اینترنتی\n..   ...              ...    ...            ...\n707  707      بانه لپ تاپ   بانه  خرید اینترنتی\n708  708        جزیره شاپ   بانه  خرید اینترنتی\n709  709         بانه تِک   بانه  خرید اینترنتی\n710  710  مرکز پخش کنارتو    یزد  خرید اینترنتی\n711  711  مرکز پخش کنارتو    یزد     خرید حضوری\n\n[712 rows x 4 columns]",
      "text/html": "<div>\n<style scoped>\n    .dataframe tbody tr th:only-of-type {\n        vertical-align: middle;\n    }\n\n    .dataframe tbody tr th {\n        vertical-align: top;\n    }\n\n    .dataframe thead th {\n        text-align: right;\n    }\n</style>\n<table border=\"1\" class=\"dataframe\">\n  <thead>\n    <tr style=\"text-align: right;\">\n      <th></th>\n      <th>ID</th>\n      <th>Name</th>\n      <th>City</th>\n      <th>Type</th>\n    </tr>\n  </thead>\n  <tbody>\n    <tr>\n      <th>0</th>\n      <td>0</td>\n      <td>تکنولایف</td>\n      <td>تهران</td>\n      <td>خرید اینترنتی</td>\n    </tr>\n    <tr>\n      <th>1</th>\n      <td>1</td>\n      <td>افراشاپ</td>\n      <td>تهران</td>\n      <td>خرید اینترنتی</td>\n    </tr>\n    <tr>\n      <th>2</th>\n      <td>2</td>\n      <td>بهینه پردازش</td>\n      <td>تهران</td>\n      <td>خرید اینترنتی</td>\n    </tr>\n    <tr>\n      <th>3</th>\n      <td>3</td>\n      <td>مقداد آی تی</td>\n      <td>تهران</td>\n      <td>خرید اینترنتی</td>\n    </tr>\n    <tr>\n      <th>4</th>\n      <td>4</td>\n      <td>تاپ رایان</td>\n      <td>تهران</td>\n      <td>خرید اینترنتی</td>\n    </tr>\n    <tr>\n      <th>...</th>\n      <td>...</td>\n      <td>...</td>\n      <td>...</td>\n      <td>...</td>\n    </tr>\n    <tr>\n      <th>707</th>\n      <td>707</td>\n      <td>بانه لپ تاپ</td>\n      <td>بانه</td>\n      <td>خرید اینترنتی</td>\n    </tr>\n    <tr>\n      <th>708</th>\n      <td>708</td>\n      <td>جزیره شاپ</td>\n      <td>بانه</td>\n      <td>خرید اینترنتی</td>\n    </tr>\n    <tr>\n      <th>709</th>\n      <td>709</td>\n      <td>بانه تِک</td>\n      <td>بانه</td>\n      <td>خرید اینترنتی</td>\n    </tr>\n    <tr>\n      <th>710</th>\n      <td>710</td>\n      <td>مرکز پخش کنارتو</td>\n      <td>یزد</td>\n      <td>خرید اینترنتی</td>\n    </tr>\n    <tr>\n      <th>711</th>\n      <td>711</td>\n      <td>مرکز پخش کنارتو</td>\n      <td>یزد</td>\n      <td>خرید حضوری</td>\n    </tr>\n  </tbody>\n</table>\n<p>712 rows × 4 columns</p>\n</div>"
     },
     "execution_count": 108,
     "metadata": {},
     "output_type": "execute_result"
    }
   ],
   "source": [
    "df_stores=pd.read_csv('D:\\quera\\\\bootcamp\\examples\\Laptop_analysis_and_Warehousing_g3\\Data Source\\\\stores_c.csv')\n",
    "df_stores_c=df_stores[['Shop_Nmae','Shop_City','Type']].copy()\n",
    "df_stores_c=df_stores_c.drop_duplicates().reset_index(drop=True)\n",
    "df_stores_c['Shop_Nmae']=df_stores_c['Shop_Nmae'].apply(lambda x:x.replace('(','').replace(')',''))\n",
    "df_stores_c['Index']=df_stores_c.index\n",
    "df_stores_c=df_stores_c[['Index','Shop_Nmae','Shop_City','Type']]\n",
    "df_stores_c.rename(columns={'Index':'ID', 'Shop_Nmae':'Name', 'Shop_City':'City', 'Type':'Type'},inplace=True)\n",
    "df_stores_c"
   ],
   "metadata": {
    "collapsed": false,
    "pycharm": {
     "name": "#%%\n"
    }
   }
  },
  {
   "cell_type": "code",
   "execution_count": 109,
   "outputs": [
    {
     "name": "stderr",
     "output_type": "stream",
     "text": [
      "C:\\Users\\Aghil\\AppData\\Local\\Temp\\ipykernel_9032\\184857302.py:3: UserWarning: This pattern is interpreted as a regular expression, and has match groups. To actually get the groups, use str.extract.\n",
      "  Store_ID=df_stores_c.loc[((df_stores_c.Name.str.contains(row['Shop_Nmae']))&\n",
      "C:\\Users\\Aghil\\AppData\\Local\\Temp\\ipykernel_9032\\184857302.py:3: UserWarning: This pattern is interpreted as a regular expression, and has match groups. To actually get the groups, use str.extract.\n",
      "  Store_ID=df_stores_c.loc[((df_stores_c.Name.str.contains(row['Shop_Nmae']))&\n",
      "C:\\Users\\Aghil\\AppData\\Local\\Temp\\ipykernel_9032\\184857302.py:3: UserWarning: This pattern is interpreted as a regular expression, and has match groups. To actually get the groups, use str.extract.\n",
      "  Store_ID=df_stores_c.loc[((df_stores_c.Name.str.contains(row['Shop_Nmae']))&\n",
      "C:\\Users\\Aghil\\AppData\\Local\\Temp\\ipykernel_9032\\184857302.py:3: UserWarning: This pattern is interpreted as a regular expression, and has match groups. To actually get the groups, use str.extract.\n",
      "  Store_ID=df_stores_c.loc[((df_stores_c.Name.str.contains(row['Shop_Nmae']))&\n",
      "C:\\Users\\Aghil\\AppData\\Local\\Temp\\ipykernel_9032\\184857302.py:3: UserWarning: This pattern is interpreted as a regular expression, and has match groups. To actually get the groups, use str.extract.\n",
      "  Store_ID=df_stores_c.loc[((df_stores_c.Name.str.contains(row['Shop_Nmae']))&\n",
      "C:\\Users\\Aghil\\AppData\\Local\\Temp\\ipykernel_9032\\184857302.py:3: UserWarning: This pattern is interpreted as a regular expression, and has match groups. To actually get the groups, use str.extract.\n",
      "  Store_ID=df_stores_c.loc[((df_stores_c.Name.str.contains(row['Shop_Nmae']))&\n",
      "C:\\Users\\Aghil\\AppData\\Local\\Temp\\ipykernel_9032\\184857302.py:3: UserWarning: This pattern is interpreted as a regular expression, and has match groups. To actually get the groups, use str.extract.\n",
      "  Store_ID=df_stores_c.loc[((df_stores_c.Name.str.contains(row['Shop_Nmae']))&\n",
      "C:\\Users\\Aghil\\AppData\\Local\\Temp\\ipykernel_9032\\184857302.py:3: UserWarning: This pattern is interpreted as a regular expression, and has match groups. To actually get the groups, use str.extract.\n",
      "  Store_ID=df_stores_c.loc[((df_stores_c.Name.str.contains(row['Shop_Nmae']))&\n",
      "C:\\Users\\Aghil\\AppData\\Local\\Temp\\ipykernel_9032\\184857302.py:3: UserWarning: This pattern is interpreted as a regular expression, and has match groups. To actually get the groups, use str.extract.\n",
      "  Store_ID=df_stores_c.loc[((df_stores_c.Name.str.contains(row['Shop_Nmae']))&\n",
      "C:\\Users\\Aghil\\AppData\\Local\\Temp\\ipykernel_9032\\184857302.py:3: UserWarning: This pattern is interpreted as a regular expression, and has match groups. To actually get the groups, use str.extract.\n",
      "  Store_ID=df_stores_c.loc[((df_stores_c.Name.str.contains(row['Shop_Nmae']))&\n",
      "C:\\Users\\Aghil\\AppData\\Local\\Temp\\ipykernel_9032\\184857302.py:3: UserWarning: This pattern is interpreted as a regular expression, and has match groups. To actually get the groups, use str.extract.\n",
      "  Store_ID=df_stores_c.loc[((df_stores_c.Name.str.contains(row['Shop_Nmae']))&\n",
      "C:\\Users\\Aghil\\AppData\\Local\\Temp\\ipykernel_9032\\184857302.py:3: UserWarning: This pattern is interpreted as a regular expression, and has match groups. To actually get the groups, use str.extract.\n",
      "  Store_ID=df_stores_c.loc[((df_stores_c.Name.str.contains(row['Shop_Nmae']))&\n",
      "C:\\Users\\Aghil\\AppData\\Local\\Temp\\ipykernel_9032\\184857302.py:3: UserWarning: This pattern is interpreted as a regular expression, and has match groups. To actually get the groups, use str.extract.\n",
      "  Store_ID=df_stores_c.loc[((df_stores_c.Name.str.contains(row['Shop_Nmae']))&\n",
      "C:\\Users\\Aghil\\AppData\\Local\\Temp\\ipykernel_9032\\184857302.py:3: UserWarning: This pattern is interpreted as a regular expression, and has match groups. To actually get the groups, use str.extract.\n",
      "  Store_ID=df_stores_c.loc[((df_stores_c.Name.str.contains(row['Shop_Nmae']))&\n",
      "C:\\Users\\Aghil\\AppData\\Local\\Temp\\ipykernel_9032\\184857302.py:3: UserWarning: This pattern is interpreted as a regular expression, and has match groups. To actually get the groups, use str.extract.\n",
      "  Store_ID=df_stores_c.loc[((df_stores_c.Name.str.contains(row['Shop_Nmae']))&\n",
      "C:\\Users\\Aghil\\AppData\\Local\\Temp\\ipykernel_9032\\184857302.py:3: UserWarning: This pattern is interpreted as a regular expression, and has match groups. To actually get the groups, use str.extract.\n",
      "  Store_ID=df_stores_c.loc[((df_stores_c.Name.str.contains(row['Shop_Nmae']))&\n",
      "C:\\Users\\Aghil\\AppData\\Local\\Temp\\ipykernel_9032\\184857302.py:3: UserWarning: This pattern is interpreted as a regular expression, and has match groups. To actually get the groups, use str.extract.\n",
      "  Store_ID=df_stores_c.loc[((df_stores_c.Name.str.contains(row['Shop_Nmae']))&\n",
      "C:\\Users\\Aghil\\AppData\\Local\\Temp\\ipykernel_9032\\184857302.py:3: UserWarning: This pattern is interpreted as a regular expression, and has match groups. To actually get the groups, use str.extract.\n",
      "  Store_ID=df_stores_c.loc[((df_stores_c.Name.str.contains(row['Shop_Nmae']))&\n",
      "C:\\Users\\Aghil\\AppData\\Local\\Temp\\ipykernel_9032\\184857302.py:3: UserWarning: This pattern is interpreted as a regular expression, and has match groups. To actually get the groups, use str.extract.\n",
      "  Store_ID=df_stores_c.loc[((df_stores_c.Name.str.contains(row['Shop_Nmae']))&\n",
      "C:\\Users\\Aghil\\AppData\\Local\\Temp\\ipykernel_9032\\184857302.py:3: UserWarning: This pattern is interpreted as a regular expression, and has match groups. To actually get the groups, use str.extract.\n",
      "  Store_ID=df_stores_c.loc[((df_stores_c.Name.str.contains(row['Shop_Nmae']))&\n",
      "C:\\Users\\Aghil\\AppData\\Local\\Temp\\ipykernel_9032\\184857302.py:3: UserWarning: This pattern is interpreted as a regular expression, and has match groups. To actually get the groups, use str.extract.\n",
      "  Store_ID=df_stores_c.loc[((df_stores_c.Name.str.contains(row['Shop_Nmae']))&\n",
      "C:\\Users\\Aghil\\AppData\\Local\\Temp\\ipykernel_9032\\184857302.py:3: UserWarning: This pattern is interpreted as a regular expression, and has match groups. To actually get the groups, use str.extract.\n",
      "  Store_ID=df_stores_c.loc[((df_stores_c.Name.str.contains(row['Shop_Nmae']))&\n",
      "C:\\Users\\Aghil\\AppData\\Local\\Temp\\ipykernel_9032\\184857302.py:3: UserWarning: This pattern is interpreted as a regular expression, and has match groups. To actually get the groups, use str.extract.\n",
      "  Store_ID=df_stores_c.loc[((df_stores_c.Name.str.contains(row['Shop_Nmae']))&\n",
      "C:\\Users\\Aghil\\AppData\\Local\\Temp\\ipykernel_9032\\184857302.py:3: UserWarning: This pattern is interpreted as a regular expression, and has match groups. To actually get the groups, use str.extract.\n",
      "  Store_ID=df_stores_c.loc[((df_stores_c.Name.str.contains(row['Shop_Nmae']))&\n",
      "C:\\Users\\Aghil\\AppData\\Local\\Temp\\ipykernel_9032\\184857302.py:3: UserWarning: This pattern is interpreted as a regular expression, and has match groups. To actually get the groups, use str.extract.\n",
      "  Store_ID=df_stores_c.loc[((df_stores_c.Name.str.contains(row['Shop_Nmae']))&\n",
      "C:\\Users\\Aghil\\AppData\\Local\\Temp\\ipykernel_9032\\184857302.py:3: UserWarning: This pattern is interpreted as a regular expression, and has match groups. To actually get the groups, use str.extract.\n",
      "  Store_ID=df_stores_c.loc[((df_stores_c.Name.str.contains(row['Shop_Nmae']))&\n",
      "C:\\Users\\Aghil\\AppData\\Local\\Temp\\ipykernel_9032\\184857302.py:3: UserWarning: This pattern is interpreted as a regular expression, and has match groups. To actually get the groups, use str.extract.\n",
      "  Store_ID=df_stores_c.loc[((df_stores_c.Name.str.contains(row['Shop_Nmae']))&\n",
      "C:\\Users\\Aghil\\AppData\\Local\\Temp\\ipykernel_9032\\184857302.py:3: UserWarning: This pattern is interpreted as a regular expression, and has match groups. To actually get the groups, use str.extract.\n",
      "  Store_ID=df_stores_c.loc[((df_stores_c.Name.str.contains(row['Shop_Nmae']))&\n",
      "C:\\Users\\Aghil\\AppData\\Local\\Temp\\ipykernel_9032\\184857302.py:3: UserWarning: This pattern is interpreted as a regular expression, and has match groups. To actually get the groups, use str.extract.\n",
      "  Store_ID=df_stores_c.loc[((df_stores_c.Name.str.contains(row['Shop_Nmae']))&\n",
      "C:\\Users\\Aghil\\AppData\\Local\\Temp\\ipykernel_9032\\184857302.py:3: UserWarning: This pattern is interpreted as a regular expression, and has match groups. To actually get the groups, use str.extract.\n",
      "  Store_ID=df_stores_c.loc[((df_stores_c.Name.str.contains(row['Shop_Nmae']))&\n",
      "C:\\Users\\Aghil\\AppData\\Local\\Temp\\ipykernel_9032\\184857302.py:3: UserWarning: This pattern is interpreted as a regular expression, and has match groups. To actually get the groups, use str.extract.\n",
      "  Store_ID=df_stores_c.loc[((df_stores_c.Name.str.contains(row['Shop_Nmae']))&\n",
      "C:\\Users\\Aghil\\AppData\\Local\\Temp\\ipykernel_9032\\184857302.py:3: UserWarning: This pattern is interpreted as a regular expression, and has match groups. To actually get the groups, use str.extract.\n",
      "  Store_ID=df_stores_c.loc[((df_stores_c.Name.str.contains(row['Shop_Nmae']))&\n",
      "C:\\Users\\Aghil\\AppData\\Local\\Temp\\ipykernel_9032\\184857302.py:3: UserWarning: This pattern is interpreted as a regular expression, and has match groups. To actually get the groups, use str.extract.\n",
      "  Store_ID=df_stores_c.loc[((df_stores_c.Name.str.contains(row['Shop_Nmae']))&\n",
      "C:\\Users\\Aghil\\AppData\\Local\\Temp\\ipykernel_9032\\184857302.py:3: UserWarning: This pattern is interpreted as a regular expression, and has match groups. To actually get the groups, use str.extract.\n",
      "  Store_ID=df_stores_c.loc[((df_stores_c.Name.str.contains(row['Shop_Nmae']))&\n",
      "C:\\Users\\Aghil\\AppData\\Local\\Temp\\ipykernel_9032\\184857302.py:3: UserWarning: This pattern is interpreted as a regular expression, and has match groups. To actually get the groups, use str.extract.\n",
      "  Store_ID=df_stores_c.loc[((df_stores_c.Name.str.contains(row['Shop_Nmae']))&\n",
      "C:\\Users\\Aghil\\AppData\\Local\\Temp\\ipykernel_9032\\184857302.py:3: UserWarning: This pattern is interpreted as a regular expression, and has match groups. To actually get the groups, use str.extract.\n",
      "  Store_ID=df_stores_c.loc[((df_stores_c.Name.str.contains(row['Shop_Nmae']))&\n",
      "C:\\Users\\Aghil\\AppData\\Local\\Temp\\ipykernel_9032\\184857302.py:3: UserWarning: This pattern is interpreted as a regular expression, and has match groups. To actually get the groups, use str.extract.\n",
      "  Store_ID=df_stores_c.loc[((df_stores_c.Name.str.contains(row['Shop_Nmae']))&\n",
      "C:\\Users\\Aghil\\AppData\\Local\\Temp\\ipykernel_9032\\184857302.py:3: UserWarning: This pattern is interpreted as a regular expression, and has match groups. To actually get the groups, use str.extract.\n",
      "  Store_ID=df_stores_c.loc[((df_stores_c.Name.str.contains(row['Shop_Nmae']))&\n",
      "C:\\Users\\Aghil\\AppData\\Local\\Temp\\ipykernel_9032\\184857302.py:3: UserWarning: This pattern is interpreted as a regular expression, and has match groups. To actually get the groups, use str.extract.\n",
      "  Store_ID=df_stores_c.loc[((df_stores_c.Name.str.contains(row['Shop_Nmae']))&\n",
      "C:\\Users\\Aghil\\AppData\\Local\\Temp\\ipykernel_9032\\184857302.py:3: UserWarning: This pattern is interpreted as a regular expression, and has match groups. To actually get the groups, use str.extract.\n",
      "  Store_ID=df_stores_c.loc[((df_stores_c.Name.str.contains(row['Shop_Nmae']))&\n",
      "C:\\Users\\Aghil\\AppData\\Local\\Temp\\ipykernel_9032\\184857302.py:3: UserWarning: This pattern is interpreted as a regular expression, and has match groups. To actually get the groups, use str.extract.\n",
      "  Store_ID=df_stores_c.loc[((df_stores_c.Name.str.contains(row['Shop_Nmae']))&\n",
      "C:\\Users\\Aghil\\AppData\\Local\\Temp\\ipykernel_9032\\184857302.py:3: UserWarning: This pattern is interpreted as a regular expression, and has match groups. To actually get the groups, use str.extract.\n",
      "  Store_ID=df_stores_c.loc[((df_stores_c.Name.str.contains(row['Shop_Nmae']))&\n",
      "C:\\Users\\Aghil\\AppData\\Local\\Temp\\ipykernel_9032\\184857302.py:3: UserWarning: This pattern is interpreted as a regular expression, and has match groups. To actually get the groups, use str.extract.\n",
      "  Store_ID=df_stores_c.loc[((df_stores_c.Name.str.contains(row['Shop_Nmae']))&\n",
      "C:\\Users\\Aghil\\AppData\\Local\\Temp\\ipykernel_9032\\184857302.py:3: UserWarning: This pattern is interpreted as a regular expression, and has match groups. To actually get the groups, use str.extract.\n",
      "  Store_ID=df_stores_c.loc[((df_stores_c.Name.str.contains(row['Shop_Nmae']))&\n",
      "C:\\Users\\Aghil\\AppData\\Local\\Temp\\ipykernel_9032\\184857302.py:3: UserWarning: This pattern is interpreted as a regular expression, and has match groups. To actually get the groups, use str.extract.\n",
      "  Store_ID=df_stores_c.loc[((df_stores_c.Name.str.contains(row['Shop_Nmae']))&\n",
      "C:\\Users\\Aghil\\AppData\\Local\\Temp\\ipykernel_9032\\184857302.py:3: UserWarning: This pattern is interpreted as a regular expression, and has match groups. To actually get the groups, use str.extract.\n",
      "  Store_ID=df_stores_c.loc[((df_stores_c.Name.str.contains(row['Shop_Nmae']))&\n",
      "C:\\Users\\Aghil\\AppData\\Local\\Temp\\ipykernel_9032\\184857302.py:3: UserWarning: This pattern is interpreted as a regular expression, and has match groups. To actually get the groups, use str.extract.\n",
      "  Store_ID=df_stores_c.loc[((df_stores_c.Name.str.contains(row['Shop_Nmae']))&\n",
      "C:\\Users\\Aghil\\AppData\\Local\\Temp\\ipykernel_9032\\184857302.py:3: UserWarning: This pattern is interpreted as a regular expression, and has match groups. To actually get the groups, use str.extract.\n",
      "  Store_ID=df_stores_c.loc[((df_stores_c.Name.str.contains(row['Shop_Nmae']))&\n",
      "C:\\Users\\Aghil\\AppData\\Local\\Temp\\ipykernel_9032\\184857302.py:3: UserWarning: This pattern is interpreted as a regular expression, and has match groups. To actually get the groups, use str.extract.\n",
      "  Store_ID=df_stores_c.loc[((df_stores_c.Name.str.contains(row['Shop_Nmae']))&\n",
      "C:\\Users\\Aghil\\AppData\\Local\\Temp\\ipykernel_9032\\184857302.py:3: UserWarning: This pattern is interpreted as a regular expression, and has match groups. To actually get the groups, use str.extract.\n",
      "  Store_ID=df_stores_c.loc[((df_stores_c.Name.str.contains(row['Shop_Nmae']))&\n",
      "C:\\Users\\Aghil\\AppData\\Local\\Temp\\ipykernel_9032\\184857302.py:3: UserWarning: This pattern is interpreted as a regular expression, and has match groups. To actually get the groups, use str.extract.\n",
      "  Store_ID=df_stores_c.loc[((df_stores_c.Name.str.contains(row['Shop_Nmae']))&\n",
      "C:\\Users\\Aghil\\AppData\\Local\\Temp\\ipykernel_9032\\184857302.py:3: UserWarning: This pattern is interpreted as a regular expression, and has match groups. To actually get the groups, use str.extract.\n",
      "  Store_ID=df_stores_c.loc[((df_stores_c.Name.str.contains(row['Shop_Nmae']))&\n",
      "C:\\Users\\Aghil\\AppData\\Local\\Temp\\ipykernel_9032\\184857302.py:3: UserWarning: This pattern is interpreted as a regular expression, and has match groups. To actually get the groups, use str.extract.\n",
      "  Store_ID=df_stores_c.loc[((df_stores_c.Name.str.contains(row['Shop_Nmae']))&\n",
      "C:\\Users\\Aghil\\AppData\\Local\\Temp\\ipykernel_9032\\184857302.py:3: UserWarning: This pattern is interpreted as a regular expression, and has match groups. To actually get the groups, use str.extract.\n",
      "  Store_ID=df_stores_c.loc[((df_stores_c.Name.str.contains(row['Shop_Nmae']))&\n",
      "C:\\Users\\Aghil\\AppData\\Local\\Temp\\ipykernel_9032\\184857302.py:3: UserWarning: This pattern is interpreted as a regular expression, and has match groups. To actually get the groups, use str.extract.\n",
      "  Store_ID=df_stores_c.loc[((df_stores_c.Name.str.contains(row['Shop_Nmae']))&\n",
      "C:\\Users\\Aghil\\AppData\\Local\\Temp\\ipykernel_9032\\184857302.py:3: UserWarning: This pattern is interpreted as a regular expression, and has match groups. To actually get the groups, use str.extract.\n",
      "  Store_ID=df_stores_c.loc[((df_stores_c.Name.str.contains(row['Shop_Nmae']))&\n",
      "C:\\Users\\Aghil\\AppData\\Local\\Temp\\ipykernel_9032\\184857302.py:3: UserWarning: This pattern is interpreted as a regular expression, and has match groups. To actually get the groups, use str.extract.\n",
      "  Store_ID=df_stores_c.loc[((df_stores_c.Name.str.contains(row['Shop_Nmae']))&\n",
      "C:\\Users\\Aghil\\AppData\\Local\\Temp\\ipykernel_9032\\184857302.py:3: UserWarning: This pattern is interpreted as a regular expression, and has match groups. To actually get the groups, use str.extract.\n",
      "  Store_ID=df_stores_c.loc[((df_stores_c.Name.str.contains(row['Shop_Nmae']))&\n",
      "C:\\Users\\Aghil\\AppData\\Local\\Temp\\ipykernel_9032\\184857302.py:3: UserWarning: This pattern is interpreted as a regular expression, and has match groups. To actually get the groups, use str.extract.\n",
      "  Store_ID=df_stores_c.loc[((df_stores_c.Name.str.contains(row['Shop_Nmae']))&\n",
      "C:\\Users\\Aghil\\AppData\\Local\\Temp\\ipykernel_9032\\184857302.py:3: UserWarning: This pattern is interpreted as a regular expression, and has match groups. To actually get the groups, use str.extract.\n",
      "  Store_ID=df_stores_c.loc[((df_stores_c.Name.str.contains(row['Shop_Nmae']))&\n",
      "C:\\Users\\Aghil\\AppData\\Local\\Temp\\ipykernel_9032\\184857302.py:3: UserWarning: This pattern is interpreted as a regular expression, and has match groups. To actually get the groups, use str.extract.\n",
      "  Store_ID=df_stores_c.loc[((df_stores_c.Name.str.contains(row['Shop_Nmae']))&\n",
      "C:\\Users\\Aghil\\AppData\\Local\\Temp\\ipykernel_9032\\184857302.py:3: UserWarning: This pattern is interpreted as a regular expression, and has match groups. To actually get the groups, use str.extract.\n",
      "  Store_ID=df_stores_c.loc[((df_stores_c.Name.str.contains(row['Shop_Nmae']))&\n",
      "C:\\Users\\Aghil\\AppData\\Local\\Temp\\ipykernel_9032\\184857302.py:3: UserWarning: This pattern is interpreted as a regular expression, and has match groups. To actually get the groups, use str.extract.\n",
      "  Store_ID=df_stores_c.loc[((df_stores_c.Name.str.contains(row['Shop_Nmae']))&\n",
      "C:\\Users\\Aghil\\AppData\\Local\\Temp\\ipykernel_9032\\184857302.py:3: UserWarning: This pattern is interpreted as a regular expression, and has match groups. To actually get the groups, use str.extract.\n",
      "  Store_ID=df_stores_c.loc[((df_stores_c.Name.str.contains(row['Shop_Nmae']))&\n",
      "C:\\Users\\Aghil\\AppData\\Local\\Temp\\ipykernel_9032\\184857302.py:3: UserWarning: This pattern is interpreted as a regular expression, and has match groups. To actually get the groups, use str.extract.\n",
      "  Store_ID=df_stores_c.loc[((df_stores_c.Name.str.contains(row['Shop_Nmae']))&\n",
      "C:\\Users\\Aghil\\AppData\\Local\\Temp\\ipykernel_9032\\184857302.py:3: UserWarning: This pattern is interpreted as a regular expression, and has match groups. To actually get the groups, use str.extract.\n",
      "  Store_ID=df_stores_c.loc[((df_stores_c.Name.str.contains(row['Shop_Nmae']))&\n",
      "C:\\Users\\Aghil\\AppData\\Local\\Temp\\ipykernel_9032\\184857302.py:3: UserWarning: This pattern is interpreted as a regular expression, and has match groups. To actually get the groups, use str.extract.\n",
      "  Store_ID=df_stores_c.loc[((df_stores_c.Name.str.contains(row['Shop_Nmae']))&\n",
      "C:\\Users\\Aghil\\AppData\\Local\\Temp\\ipykernel_9032\\184857302.py:3: UserWarning: This pattern is interpreted as a regular expression, and has match groups. To actually get the groups, use str.extract.\n",
      "  Store_ID=df_stores_c.loc[((df_stores_c.Name.str.contains(row['Shop_Nmae']))&\n",
      "C:\\Users\\Aghil\\AppData\\Local\\Temp\\ipykernel_9032\\184857302.py:3: UserWarning: This pattern is interpreted as a regular expression, and has match groups. To actually get the groups, use str.extract.\n",
      "  Store_ID=df_stores_c.loc[((df_stores_c.Name.str.contains(row['Shop_Nmae']))&\n",
      "C:\\Users\\Aghil\\AppData\\Local\\Temp\\ipykernel_9032\\184857302.py:3: UserWarning: This pattern is interpreted as a regular expression, and has match groups. To actually get the groups, use str.extract.\n",
      "  Store_ID=df_stores_c.loc[((df_stores_c.Name.str.contains(row['Shop_Nmae']))&\n",
      "C:\\Users\\Aghil\\AppData\\Local\\Temp\\ipykernel_9032\\184857302.py:3: UserWarning: This pattern is interpreted as a regular expression, and has match groups. To actually get the groups, use str.extract.\n",
      "  Store_ID=df_stores_c.loc[((df_stores_c.Name.str.contains(row['Shop_Nmae']))&\n",
      "C:\\Users\\Aghil\\AppData\\Local\\Temp\\ipykernel_9032\\184857302.py:3: UserWarning: This pattern is interpreted as a regular expression, and has match groups. To actually get the groups, use str.extract.\n",
      "  Store_ID=df_stores_c.loc[((df_stores_c.Name.str.contains(row['Shop_Nmae']))&\n",
      "C:\\Users\\Aghil\\AppData\\Local\\Temp\\ipykernel_9032\\184857302.py:3: UserWarning: This pattern is interpreted as a regular expression, and has match groups. To actually get the groups, use str.extract.\n",
      "  Store_ID=df_stores_c.loc[((df_stores_c.Name.str.contains(row['Shop_Nmae']))&\n",
      "C:\\Users\\Aghil\\AppData\\Local\\Temp\\ipykernel_9032\\184857302.py:3: UserWarning: This pattern is interpreted as a regular expression, and has match groups. To actually get the groups, use str.extract.\n",
      "  Store_ID=df_stores_c.loc[((df_stores_c.Name.str.contains(row['Shop_Nmae']))&\n",
      "C:\\Users\\Aghil\\AppData\\Local\\Temp\\ipykernel_9032\\184857302.py:3: UserWarning: This pattern is interpreted as a regular expression, and has match groups. To actually get the groups, use str.extract.\n",
      "  Store_ID=df_stores_c.loc[((df_stores_c.Name.str.contains(row['Shop_Nmae']))&\n",
      "C:\\Users\\Aghil\\AppData\\Local\\Temp\\ipykernel_9032\\184857302.py:3: UserWarning: This pattern is interpreted as a regular expression, and has match groups. To actually get the groups, use str.extract.\n",
      "  Store_ID=df_stores_c.loc[((df_stores_c.Name.str.contains(row['Shop_Nmae']))&\n",
      "C:\\Users\\Aghil\\AppData\\Local\\Temp\\ipykernel_9032\\184857302.py:3: UserWarning: This pattern is interpreted as a regular expression, and has match groups. To actually get the groups, use str.extract.\n",
      "  Store_ID=df_stores_c.loc[((df_stores_c.Name.str.contains(row['Shop_Nmae']))&\n"
     ]
    }
   ],
   "source": [
    "df_product_price=pd.DataFrame(columns=['Product_ID','Store_ID','Date','Price'])\n",
    "for index,row in df_stores.iterrows():\n",
    "    Store_ID=df_stores_c.loc[((df_stores_c.Name.str.contains(row['Shop_Nmae']))&\n",
    "                              (df_stores_c.City.str.contains(row['Shop_City']))&\n",
    "                              (df_stores_c.Type.str.contains(row['Type']))),'ID'].values[0]\n",
    "    Date=pd.to_datetime(row['Date'])\n",
    "    Price=row['Price']\n",
    "    df_product_price.loc[index]={\n",
    "        'Product_ID':row['Product ID'],\n",
    "        'Store_ID':Store_ID,\n",
    "        'Date':Date,\n",
    "        'Price':Price\n",
    "    }"
   ],
   "metadata": {
    "collapsed": false,
    "pycharm": {
     "name": "#%%\n"
    }
   }
  },
  {
   "cell_type": "code",
   "execution_count": 130,
   "outputs": [],
   "source": [
    "df_product_price.drop(df_product_price.sort_values(by='Price').head(49).index,inplace=True)"
   ],
   "metadata": {
    "collapsed": false,
    "pycharm": {
     "name": "#%%\n"
    }
   }
  },
  {
   "cell_type": "code",
   "execution_count": 70,
   "outputs": [
    {
     "data": {
      "text/plain": "                                 product_id  average_price  min_price  \\\n0      1bc99e75-8448-4c20-b42a-fae1e065b632       15350000   14200000   \n1      1bc99e75-8448-4c20-b42a-fae1e065b632       16140000   15400000   \n2      1bc99e75-8448-4c20-b42a-fae1e065b632       16700000   16700000   \n3      1bc99e75-8448-4c20-b42a-fae1e065b632       16350000   15500000   \n4      1bc99e75-8448-4c20-b42a-fae1e065b632       18900000   18800000   \n...                                     ...            ...        ...   \n54032  89822372-c6aa-4b39-901d-f1914bb48362       63440000   63440000   \n54033  89822372-c6aa-4b39-901d-f1914bb48362       60430000   60430000   \n54034  89822372-c6aa-4b39-901d-f1914bb48362       59820000   59820000   \n54035  89822372-c6aa-4b39-901d-f1914bb48362       62265000   61030000   \n54036  89822372-c6aa-4b39-901d-f1914bb48362       57020000   57020000   \n\n             date  \n0      2021-07-06  \n1      2021-08-10  \n2      2021-09-03  \n3      2021-10-03  \n4      2021-11-08  \n...           ...  \n54032  2023-06-23  \n54033  2023-06-29  \n54034  2023-07-05  \n54035  2023-08-10  \n54036  2023-09-24  \n\n[54037 rows x 4 columns]",
      "text/html": "<div>\n<style scoped>\n    .dataframe tbody tr th:only-of-type {\n        vertical-align: middle;\n    }\n\n    .dataframe tbody tr th {\n        vertical-align: top;\n    }\n\n    .dataframe thead th {\n        text-align: right;\n    }\n</style>\n<table border=\"1\" class=\"dataframe\">\n  <thead>\n    <tr style=\"text-align: right;\">\n      <th></th>\n      <th>product_id</th>\n      <th>average_price</th>\n      <th>min_price</th>\n      <th>date</th>\n    </tr>\n  </thead>\n  <tbody>\n    <tr>\n      <th>0</th>\n      <td>1bc99e75-8448-4c20-b42a-fae1e065b632</td>\n      <td>15350000</td>\n      <td>14200000</td>\n      <td>2021-07-06</td>\n    </tr>\n    <tr>\n      <th>1</th>\n      <td>1bc99e75-8448-4c20-b42a-fae1e065b632</td>\n      <td>16140000</td>\n      <td>15400000</td>\n      <td>2021-08-10</td>\n    </tr>\n    <tr>\n      <th>2</th>\n      <td>1bc99e75-8448-4c20-b42a-fae1e065b632</td>\n      <td>16700000</td>\n      <td>16700000</td>\n      <td>2021-09-03</td>\n    </tr>\n    <tr>\n      <th>3</th>\n      <td>1bc99e75-8448-4c20-b42a-fae1e065b632</td>\n      <td>16350000</td>\n      <td>15500000</td>\n      <td>2021-10-03</td>\n    </tr>\n    <tr>\n      <th>4</th>\n      <td>1bc99e75-8448-4c20-b42a-fae1e065b632</td>\n      <td>18900000</td>\n      <td>18800000</td>\n      <td>2021-11-08</td>\n    </tr>\n    <tr>\n      <th>...</th>\n      <td>...</td>\n      <td>...</td>\n      <td>...</td>\n      <td>...</td>\n    </tr>\n    <tr>\n      <th>54032</th>\n      <td>89822372-c6aa-4b39-901d-f1914bb48362</td>\n      <td>63440000</td>\n      <td>63440000</td>\n      <td>2023-06-23</td>\n    </tr>\n    <tr>\n      <th>54033</th>\n      <td>89822372-c6aa-4b39-901d-f1914bb48362</td>\n      <td>60430000</td>\n      <td>60430000</td>\n      <td>2023-06-29</td>\n    </tr>\n    <tr>\n      <th>54034</th>\n      <td>89822372-c6aa-4b39-901d-f1914bb48362</td>\n      <td>59820000</td>\n      <td>59820000</td>\n      <td>2023-07-05</td>\n    </tr>\n    <tr>\n      <th>54035</th>\n      <td>89822372-c6aa-4b39-901d-f1914bb48362</td>\n      <td>62265000</td>\n      <td>61030000</td>\n      <td>2023-08-10</td>\n    </tr>\n    <tr>\n      <th>54036</th>\n      <td>89822372-c6aa-4b39-901d-f1914bb48362</td>\n      <td>57020000</td>\n      <td>57020000</td>\n      <td>2023-09-24</td>\n    </tr>\n  </tbody>\n</table>\n<p>54037 rows × 4 columns</p>\n</div>"
     },
     "execution_count": 70,
     "metadata": {},
     "output_type": "execute_result"
    }
   ],
   "source": [
    "df_price_chart=pd.read_csv('D:\\quera\\\\bootcamp\\examples\\Laptop_analysis_and_Warehousing_g3\\Data Source\\\\pricechart_c.csv')\n",
    "df_price_chart=df_price_chart.rename(columns={'meanprice':'average_price', 'lowprice':'min_price', 'dateE':'date'})\n",
    "df_price_chart=df_price_chart[['product_id','average_price','min_price','date']]\n",
    "df_price_chart"
   ],
   "metadata": {
    "collapsed": false,
    "pycharm": {
     "name": "#%%\n"
    }
   }
  },
  {
   "cell_type": "code",
   "execution_count": 40,
   "outputs": [
    {
     "data": {
      "text/plain": "      Manufacturer                             Model_Name            Category  \\\n0             Dell                            Vostro 3568            Notebook   \n1           Lenovo                         Yoga 720-13IKB  2 in 1 Convertible   \n2           Lenovo                     IdeaPad Y700-15ISK            Notebook   \n3             Dell                          Inspiron 5370           Ultrabook   \n4             Acer                         Aspire E5-576G            Notebook   \n...            ...                                    ...                 ...   \n27093       Lenovo         V110-15IAP (N3350/4GB/128GB/No            Notebook   \n31951         Vero       V131 (X5-Z8350/4GB/32GB/FHD/W10)            Notebook   \n32102         Asus         X541NA (N3350/4GB/1TB/FHD/W10)            Notebook   \n40537          MSI                            GT73EVR 7RE              Gaming   \n42351           HP  15-bs018nq (i3-6006U/4GB/500GB/FHD/No            Notebook   \n\n      Screen_Size                                     Screen  \\\n0           15.6\"                          Full HD 1920x1080   \n1           13.3\"  IPS Panel Full HD / Touchscreen 1920x1080   \n2           15.6\"                IPS Panel Full HD 1920x1080   \n3           13.3\"                IPS Panel Full HD 1920x1080   \n4           15.6\"                          Full HD 1920x1080   \n...           ...                                        ...   \n27093       15.6\"                                   1366x768   \n31951       13.3\"                          Full HD 1920x1080   \n32102       15.6\"                          Full HD 1920x1080   \n40537       17.3\"                          Full HD 1920x1080   \n42351       15.6\"                          Full HD 1920x1080   \n\n                                        CPU   RAM               Storage  \\\n0                Intel Core i5 7200U 2.5GHz   8GB             256GB SSD   \n1                Intel Core i5 7200U 2.5GHz   8GB             256GB SSD   \n2               Intel Core i7 6700HQ 2.6GHz   8GB               1TB HDD   \n3                Intel Core i7 8550U 1.8GHz   8GB             256GB SSD   \n4                Intel Core i5 7200U 2.5GHz   4GB             256GB SSD   \n...                                     ...   ...                   ...   \n27093  Intel Celeron Dual Core N3350 1.1GHz   4GB             128GB SSD   \n31951           Intel Atom X5-Z8350 1.44GHz   4GB    32GB Flash Storage   \n32102  Intel Celeron Dual Core N3350 1.1GHz   4GB               1TB HDD   \n40537           Intel Core i7 7700HQ 2.8GHz  16GB  512GB SSD +  1TB HDD   \n42351              Intel Core i3 6006U 2GHz   4GB             500GB HDD   \n\n                           GPU       OS OS_Version  Weight  \n0           AMD Radeon R5 M420  Windows         10  2.18kg  \n1        Intel HD Graphics 620  Windows         10   1.3kg  \n2      Nvidia GeForce GTX 960M  Windows         10   2.6kg  \n3               AMD Radeon 530  Windows         10   1.4kg  \n4         Nvidia GeForce 940MX  Windows         10  2.23kg  \n...                        ...      ...        ...     ...  \n27093    Intel HD Graphics 500    No OS        NaN   1.9kg  \n31951    Intel HD Graphics 400  Windows         10  1.35kg  \n32102    Intel HD Graphics 500  Windows         10     2kg  \n40537  Nvidia GeForce GTX 1070  Windows         10  4.14kg  \n42351    Intel HD Graphics 520    No OS        NaN   2.1kg  \n\n[618 rows x 12 columns]",
      "text/html": "<div>\n<style scoped>\n    .dataframe tbody tr th:only-of-type {\n        vertical-align: middle;\n    }\n\n    .dataframe tbody tr th {\n        vertical-align: top;\n    }\n\n    .dataframe thead th {\n        text-align: right;\n    }\n</style>\n<table border=\"1\" class=\"dataframe\">\n  <thead>\n    <tr style=\"text-align: right;\">\n      <th></th>\n      <th>Manufacturer</th>\n      <th>Model_Name</th>\n      <th>Category</th>\n      <th>Screen_Size</th>\n      <th>Screen</th>\n      <th>CPU</th>\n      <th>RAM</th>\n      <th>Storage</th>\n      <th>GPU</th>\n      <th>OS</th>\n      <th>OS_Version</th>\n      <th>Weight</th>\n    </tr>\n  </thead>\n  <tbody>\n    <tr>\n      <th>0</th>\n      <td>Dell</td>\n      <td>Vostro 3568</td>\n      <td>Notebook</td>\n      <td>15.6\"</td>\n      <td>Full HD 1920x1080</td>\n      <td>Intel Core i5 7200U 2.5GHz</td>\n      <td>8GB</td>\n      <td>256GB SSD</td>\n      <td>AMD Radeon R5 M420</td>\n      <td>Windows</td>\n      <td>10</td>\n      <td>2.18kg</td>\n    </tr>\n    <tr>\n      <th>1</th>\n      <td>Lenovo</td>\n      <td>Yoga 720-13IKB</td>\n      <td>2 in 1 Convertible</td>\n      <td>13.3\"</td>\n      <td>IPS Panel Full HD / Touchscreen 1920x1080</td>\n      <td>Intel Core i5 7200U 2.5GHz</td>\n      <td>8GB</td>\n      <td>256GB SSD</td>\n      <td>Intel HD Graphics 620</td>\n      <td>Windows</td>\n      <td>10</td>\n      <td>1.3kg</td>\n    </tr>\n    <tr>\n      <th>2</th>\n      <td>Lenovo</td>\n      <td>IdeaPad Y700-15ISK</td>\n      <td>Notebook</td>\n      <td>15.6\"</td>\n      <td>IPS Panel Full HD 1920x1080</td>\n      <td>Intel Core i7 6700HQ 2.6GHz</td>\n      <td>8GB</td>\n      <td>1TB HDD</td>\n      <td>Nvidia GeForce GTX 960M</td>\n      <td>Windows</td>\n      <td>10</td>\n      <td>2.6kg</td>\n    </tr>\n    <tr>\n      <th>3</th>\n      <td>Dell</td>\n      <td>Inspiron 5370</td>\n      <td>Ultrabook</td>\n      <td>13.3\"</td>\n      <td>IPS Panel Full HD 1920x1080</td>\n      <td>Intel Core i7 8550U 1.8GHz</td>\n      <td>8GB</td>\n      <td>256GB SSD</td>\n      <td>AMD Radeon 530</td>\n      <td>Windows</td>\n      <td>10</td>\n      <td>1.4kg</td>\n    </tr>\n    <tr>\n      <th>4</th>\n      <td>Acer</td>\n      <td>Aspire E5-576G</td>\n      <td>Notebook</td>\n      <td>15.6\"</td>\n      <td>Full HD 1920x1080</td>\n      <td>Intel Core i5 7200U 2.5GHz</td>\n      <td>4GB</td>\n      <td>256GB SSD</td>\n      <td>Nvidia GeForce 940MX</td>\n      <td>Windows</td>\n      <td>10</td>\n      <td>2.23kg</td>\n    </tr>\n    <tr>\n      <th>...</th>\n      <td>...</td>\n      <td>...</td>\n      <td>...</td>\n      <td>...</td>\n      <td>...</td>\n      <td>...</td>\n      <td>...</td>\n      <td>...</td>\n      <td>...</td>\n      <td>...</td>\n      <td>...</td>\n      <td>...</td>\n    </tr>\n    <tr>\n      <th>27093</th>\n      <td>Lenovo</td>\n      <td>V110-15IAP (N3350/4GB/128GB/No</td>\n      <td>Notebook</td>\n      <td>15.6\"</td>\n      <td>1366x768</td>\n      <td>Intel Celeron Dual Core N3350 1.1GHz</td>\n      <td>4GB</td>\n      <td>128GB SSD</td>\n      <td>Intel HD Graphics 500</td>\n      <td>No OS</td>\n      <td>NaN</td>\n      <td>1.9kg</td>\n    </tr>\n    <tr>\n      <th>31951</th>\n      <td>Vero</td>\n      <td>V131 (X5-Z8350/4GB/32GB/FHD/W10)</td>\n      <td>Notebook</td>\n      <td>13.3\"</td>\n      <td>Full HD 1920x1080</td>\n      <td>Intel Atom X5-Z8350 1.44GHz</td>\n      <td>4GB</td>\n      <td>32GB Flash Storage</td>\n      <td>Intel HD Graphics 400</td>\n      <td>Windows</td>\n      <td>10</td>\n      <td>1.35kg</td>\n    </tr>\n    <tr>\n      <th>32102</th>\n      <td>Asus</td>\n      <td>X541NA (N3350/4GB/1TB/FHD/W10)</td>\n      <td>Notebook</td>\n      <td>15.6\"</td>\n      <td>Full HD 1920x1080</td>\n      <td>Intel Celeron Dual Core N3350 1.1GHz</td>\n      <td>4GB</td>\n      <td>1TB HDD</td>\n      <td>Intel HD Graphics 500</td>\n      <td>Windows</td>\n      <td>10</td>\n      <td>2kg</td>\n    </tr>\n    <tr>\n      <th>40537</th>\n      <td>MSI</td>\n      <td>GT73EVR 7RE</td>\n      <td>Gaming</td>\n      <td>17.3\"</td>\n      <td>Full HD 1920x1080</td>\n      <td>Intel Core i7 7700HQ 2.8GHz</td>\n      <td>16GB</td>\n      <td>512GB SSD +  1TB HDD</td>\n      <td>Nvidia GeForce GTX 1070</td>\n      <td>Windows</td>\n      <td>10</td>\n      <td>4.14kg</td>\n    </tr>\n    <tr>\n      <th>42351</th>\n      <td>HP</td>\n      <td>15-bs018nq (i3-6006U/4GB/500GB/FHD/No</td>\n      <td>Notebook</td>\n      <td>15.6\"</td>\n      <td>Full HD 1920x1080</td>\n      <td>Intel Core i3 6006U 2GHz</td>\n      <td>4GB</td>\n      <td>500GB HDD</td>\n      <td>Intel HD Graphics 520</td>\n      <td>No OS</td>\n      <td>NaN</td>\n      <td>2.1kg</td>\n    </tr>\n  </tbody>\n</table>\n<p>618 rows × 12 columns</p>\n</div>"
     },
     "execution_count": 40,
     "metadata": {},
     "output_type": "execute_result"
    }
   ],
   "source": [
    "df_laptop.drop_duplicates('Model_Name',inplace=True)\n",
    "df_laptop"
   ],
   "metadata": {
    "collapsed": false,
    "ExecuteTime": {
     "end_time": "2023-10-18T09:06:32.161489100Z",
     "start_time": "2023-10-18T09:06:32.046559600Z"
    },
    "pycharm": {
     "name": "#%%\n"
    }
   },
   "id": "23a47aec72275ba7"
  },
  {
   "cell_type": "code",
   "execution_count": 41,
   "outputs": [
    {
     "data": {
      "text/plain": "     index Manufacturer                             Model_Name  \\\n0        0         Dell                            Vostro 3568   \n1        1       Lenovo                         Yoga 720-13IKB   \n2        2       Lenovo                     IdeaPad Y700-15ISK   \n3        3         Dell                          Inspiron 5370   \n4        4         Acer                         Aspire E5-576G   \n..     ...          ...                                    ...   \n613  27093       Lenovo         V110-15IAP (N3350/4GB/128GB/No   \n614  31951         Vero       V131 (X5-Z8350/4GB/32GB/FHD/W10)   \n615  32102         Asus         X541NA (N3350/4GB/1TB/FHD/W10)   \n616  40537          MSI                            GT73EVR 7RE   \n617  42351           HP  15-bs018nq (i3-6006U/4GB/500GB/FHD/No   \n\n               Category Screen_Size  \\\n0              Notebook       15.6\"   \n1    2 in 1 Convertible       13.3\"   \n2              Notebook       15.6\"   \n3             Ultrabook       13.3\"   \n4              Notebook       15.6\"   \n..                  ...         ...   \n613            Notebook       15.6\"   \n614            Notebook       13.3\"   \n615            Notebook       15.6\"   \n616              Gaming       17.3\"   \n617            Notebook       15.6\"   \n\n                                        Screen  \\\n0                            Full HD 1920x1080   \n1    IPS Panel Full HD / Touchscreen 1920x1080   \n2                  IPS Panel Full HD 1920x1080   \n3                  IPS Panel Full HD 1920x1080   \n4                            Full HD 1920x1080   \n..                                         ...   \n613                                   1366x768   \n614                          Full HD 1920x1080   \n615                          Full HD 1920x1080   \n616                          Full HD 1920x1080   \n617                          Full HD 1920x1080   \n\n                                      CPU   RAM               Storage  \\\n0              Intel Core i5 7200U 2.5GHz   8GB             256GB SSD   \n1              Intel Core i5 7200U 2.5GHz   8GB             256GB SSD   \n2             Intel Core i7 6700HQ 2.6GHz   8GB               1TB HDD   \n3              Intel Core i7 8550U 1.8GHz   8GB             256GB SSD   \n4              Intel Core i5 7200U 2.5GHz   4GB             256GB SSD   \n..                                    ...   ...                   ...   \n613  Intel Celeron Dual Core N3350 1.1GHz   4GB             128GB SSD   \n614           Intel Atom X5-Z8350 1.44GHz   4GB    32GB Flash Storage   \n615  Intel Celeron Dual Core N3350 1.1GHz   4GB               1TB HDD   \n616           Intel Core i7 7700HQ 2.8GHz  16GB  512GB SSD +  1TB HDD   \n617              Intel Core i3 6006U 2GHz   4GB             500GB HDD   \n\n                         GPU       OS OS_Version  Weight  \n0         AMD Radeon R5 M420  Windows         10  2.18kg  \n1      Intel HD Graphics 620  Windows         10   1.3kg  \n2    Nvidia GeForce GTX 960M  Windows         10   2.6kg  \n3             AMD Radeon 530  Windows         10   1.4kg  \n4       Nvidia GeForce 940MX  Windows         10  2.23kg  \n..                       ...      ...        ...     ...  \n613    Intel HD Graphics 500    No OS        NaN   1.9kg  \n614    Intel HD Graphics 400  Windows         10  1.35kg  \n615    Intel HD Graphics 500  Windows         10     2kg  \n616  Nvidia GeForce GTX 1070  Windows         10  4.14kg  \n617    Intel HD Graphics 520    No OS        NaN   2.1kg  \n\n[618 rows x 13 columns]",
      "text/html": "<div>\n<style scoped>\n    .dataframe tbody tr th:only-of-type {\n        vertical-align: middle;\n    }\n\n    .dataframe tbody tr th {\n        vertical-align: top;\n    }\n\n    .dataframe thead th {\n        text-align: right;\n    }\n</style>\n<table border=\"1\" class=\"dataframe\">\n  <thead>\n    <tr style=\"text-align: right;\">\n      <th></th>\n      <th>index</th>\n      <th>Manufacturer</th>\n      <th>Model_Name</th>\n      <th>Category</th>\n      <th>Screen_Size</th>\n      <th>Screen</th>\n      <th>CPU</th>\n      <th>RAM</th>\n      <th>Storage</th>\n      <th>GPU</th>\n      <th>OS</th>\n      <th>OS_Version</th>\n      <th>Weight</th>\n    </tr>\n  </thead>\n  <tbody>\n    <tr>\n      <th>0</th>\n      <td>0</td>\n      <td>Dell</td>\n      <td>Vostro 3568</td>\n      <td>Notebook</td>\n      <td>15.6\"</td>\n      <td>Full HD 1920x1080</td>\n      <td>Intel Core i5 7200U 2.5GHz</td>\n      <td>8GB</td>\n      <td>256GB SSD</td>\n      <td>AMD Radeon R5 M420</td>\n      <td>Windows</td>\n      <td>10</td>\n      <td>2.18kg</td>\n    </tr>\n    <tr>\n      <th>1</th>\n      <td>1</td>\n      <td>Lenovo</td>\n      <td>Yoga 720-13IKB</td>\n      <td>2 in 1 Convertible</td>\n      <td>13.3\"</td>\n      <td>IPS Panel Full HD / Touchscreen 1920x1080</td>\n      <td>Intel Core i5 7200U 2.5GHz</td>\n      <td>8GB</td>\n      <td>256GB SSD</td>\n      <td>Intel HD Graphics 620</td>\n      <td>Windows</td>\n      <td>10</td>\n      <td>1.3kg</td>\n    </tr>\n    <tr>\n      <th>2</th>\n      <td>2</td>\n      <td>Lenovo</td>\n      <td>IdeaPad Y700-15ISK</td>\n      <td>Notebook</td>\n      <td>15.6\"</td>\n      <td>IPS Panel Full HD 1920x1080</td>\n      <td>Intel Core i7 6700HQ 2.6GHz</td>\n      <td>8GB</td>\n      <td>1TB HDD</td>\n      <td>Nvidia GeForce GTX 960M</td>\n      <td>Windows</td>\n      <td>10</td>\n      <td>2.6kg</td>\n    </tr>\n    <tr>\n      <th>3</th>\n      <td>3</td>\n      <td>Dell</td>\n      <td>Inspiron 5370</td>\n      <td>Ultrabook</td>\n      <td>13.3\"</td>\n      <td>IPS Panel Full HD 1920x1080</td>\n      <td>Intel Core i7 8550U 1.8GHz</td>\n      <td>8GB</td>\n      <td>256GB SSD</td>\n      <td>AMD Radeon 530</td>\n      <td>Windows</td>\n      <td>10</td>\n      <td>1.4kg</td>\n    </tr>\n    <tr>\n      <th>4</th>\n      <td>4</td>\n      <td>Acer</td>\n      <td>Aspire E5-576G</td>\n      <td>Notebook</td>\n      <td>15.6\"</td>\n      <td>Full HD 1920x1080</td>\n      <td>Intel Core i5 7200U 2.5GHz</td>\n      <td>4GB</td>\n      <td>256GB SSD</td>\n      <td>Nvidia GeForce 940MX</td>\n      <td>Windows</td>\n      <td>10</td>\n      <td>2.23kg</td>\n    </tr>\n    <tr>\n      <th>...</th>\n      <td>...</td>\n      <td>...</td>\n      <td>...</td>\n      <td>...</td>\n      <td>...</td>\n      <td>...</td>\n      <td>...</td>\n      <td>...</td>\n      <td>...</td>\n      <td>...</td>\n      <td>...</td>\n      <td>...</td>\n      <td>...</td>\n    </tr>\n    <tr>\n      <th>613</th>\n      <td>27093</td>\n      <td>Lenovo</td>\n      <td>V110-15IAP (N3350/4GB/128GB/No</td>\n      <td>Notebook</td>\n      <td>15.6\"</td>\n      <td>1366x768</td>\n      <td>Intel Celeron Dual Core N3350 1.1GHz</td>\n      <td>4GB</td>\n      <td>128GB SSD</td>\n      <td>Intel HD Graphics 500</td>\n      <td>No OS</td>\n      <td>NaN</td>\n      <td>1.9kg</td>\n    </tr>\n    <tr>\n      <th>614</th>\n      <td>31951</td>\n      <td>Vero</td>\n      <td>V131 (X5-Z8350/4GB/32GB/FHD/W10)</td>\n      <td>Notebook</td>\n      <td>13.3\"</td>\n      <td>Full HD 1920x1080</td>\n      <td>Intel Atom X5-Z8350 1.44GHz</td>\n      <td>4GB</td>\n      <td>32GB Flash Storage</td>\n      <td>Intel HD Graphics 400</td>\n      <td>Windows</td>\n      <td>10</td>\n      <td>1.35kg</td>\n    </tr>\n    <tr>\n      <th>615</th>\n      <td>32102</td>\n      <td>Asus</td>\n      <td>X541NA (N3350/4GB/1TB/FHD/W10)</td>\n      <td>Notebook</td>\n      <td>15.6\"</td>\n      <td>Full HD 1920x1080</td>\n      <td>Intel Celeron Dual Core N3350 1.1GHz</td>\n      <td>4GB</td>\n      <td>1TB HDD</td>\n      <td>Intel HD Graphics 500</td>\n      <td>Windows</td>\n      <td>10</td>\n      <td>2kg</td>\n    </tr>\n    <tr>\n      <th>616</th>\n      <td>40537</td>\n      <td>MSI</td>\n      <td>GT73EVR 7RE</td>\n      <td>Gaming</td>\n      <td>17.3\"</td>\n      <td>Full HD 1920x1080</td>\n      <td>Intel Core i7 7700HQ 2.8GHz</td>\n      <td>16GB</td>\n      <td>512GB SSD +  1TB HDD</td>\n      <td>Nvidia GeForce GTX 1070</td>\n      <td>Windows</td>\n      <td>10</td>\n      <td>4.14kg</td>\n    </tr>\n    <tr>\n      <th>617</th>\n      <td>42351</td>\n      <td>HP</td>\n      <td>15-bs018nq (i3-6006U/4GB/500GB/FHD/No</td>\n      <td>Notebook</td>\n      <td>15.6\"</td>\n      <td>Full HD 1920x1080</td>\n      <td>Intel Core i3 6006U 2GHz</td>\n      <td>4GB</td>\n      <td>500GB HDD</td>\n      <td>Intel HD Graphics 520</td>\n      <td>No OS</td>\n      <td>NaN</td>\n      <td>2.1kg</td>\n    </tr>\n  </tbody>\n</table>\n<p>618 rows × 13 columns</p>\n</div>"
     },
     "execution_count": 41,
     "metadata": {},
     "output_type": "execute_result"
    }
   ],
   "source": [
    "df_laptop.reset_index(inplace=True)\n",
    "df_laptop\n"
   ],
   "metadata": {
    "collapsed": false,
    "ExecuteTime": {
     "end_time": "2023-10-18T09:06:32.162496Z",
     "start_time": "2023-10-18T09:06:32.119873400Z"
    },
    "pycharm": {
     "name": "#%%\n"
    }
   },
   "id": "8e89bce2df55b96b"
  },
  {
   "cell_type": "code",
   "execution_count": 42,
   "outputs": [
    {
     "data": {
      "text/plain": "         index Manufacturer_x                             Model_Name  \\\n0            0           Dell                            Vostro 3568   \n1            0           Dell                            Vostro 3568   \n2            0           Dell                            Vostro 3568   \n3            0           Dell                            Vostro 3568   \n4            0           Dell                            Vostro 3568   \n...        ...            ...                                    ...   \n1017076  42351             HP  15-bs018nq (i3-6006U/4GB/500GB/FHD/No   \n1017077  42351             HP  15-bs018nq (i3-6006U/4GB/500GB/FHD/No   \n1017078  42351             HP  15-bs018nq (i3-6006U/4GB/500GB/FHD/No   \n1017079  42351             HP  15-bs018nq (i3-6006U/4GB/500GB/FHD/No   \n1017080  42351             HP  15-bs018nq (i3-6006U/4GB/500GB/FHD/No   \n\n        Category_x Screen_Size_x           Screen_x  \\\n0         Notebook         15.6\"  Full HD 1920x1080   \n1         Notebook         15.6\"  Full HD 1920x1080   \n2         Notebook         15.6\"  Full HD 1920x1080   \n3         Notebook         15.6\"  Full HD 1920x1080   \n4         Notebook         15.6\"  Full HD 1920x1080   \n...            ...           ...                ...   \n1017076   Notebook         15.6\"  Full HD 1920x1080   \n1017077   Notebook         15.6\"  Full HD 1920x1080   \n1017078   Notebook         15.6\"  Full HD 1920x1080   \n1017079   Notebook         15.6\"  Full HD 1920x1080   \n1017080   Notebook         15.6\"  Full HD 1920x1080   \n\n                              CPU_x RAM_x  Storage_x                  GPU_x  \\\n0        Intel Core i5 7200U 2.5GHz   8GB  256GB SSD     AMD Radeon R5 M420   \n1        Intel Core i5 7200U 2.5GHz   8GB  256GB SSD     AMD Radeon R5 M420   \n2        Intel Core i5 7200U 2.5GHz   8GB  256GB SSD     AMD Radeon R5 M420   \n3        Intel Core i5 7200U 2.5GHz   8GB  256GB SSD     AMD Radeon R5 M420   \n4        Intel Core i5 7200U 2.5GHz   8GB  256GB SSD     AMD Radeon R5 M420   \n...                             ...   ...        ...                    ...   \n1017076    Intel Core i3 6006U 2GHz   4GB  500GB HDD  Intel HD Graphics 520   \n1017077    Intel Core i3 6006U 2GHz   4GB  500GB HDD  Intel HD Graphics 520   \n1017078    Intel Core i3 6006U 2GHz   4GB  500GB HDD  Intel HD Graphics 520   \n1017079    Intel Core i3 6006U 2GHz   4GB  500GB HDD  Intel HD Graphics 520   \n1017080    Intel Core i3 6006U 2GHz   4GB  500GB HDD  Intel HD Graphics 520   \n\n         ...                  GPU_y     OS_y OS_Version_y  Weight_y     Price  \\\n0        ...     AMD Radeon R5 M420  Windows           10    2.18kg   3450000   \n1        ...    AMD Radeon R5 M420X  Windows           10    2.18kg   1100000   \n2        ...  Intel HD Graphics 620  Windows           10    2.18kg  16400000   \n3        ...  Intel HD Graphics 620  Windows           10    2.18kg  20150000   \n4        ...     AMD Radeon R5 M420  Windows           10    2.18kg   4250000   \n...      ...                    ...      ...          ...       ...       ...   \n1017076  ...  Intel HD Graphics 520    No OS          NaN     2.1kg   1150000   \n1017077  ...  Intel HD Graphics 520    No OS          NaN     2.1kg   1350000   \n1017078  ...  Intel HD Graphics 520    No OS          NaN     2.1kg  15150000   \n1017079  ...  Intel HD Graphics 520    No OS          NaN     2.1kg   8950000   \n1017080  ...  Intel HD Graphics 520    No OS          NaN     2.1kg  10600000   \n\n        Quantity Discount Total_Price   Profit Ship_Duration  \n0              1        0   3450000.0   250000             3  \n1              1        0   1100000.0   100000             5  \n2              1        5  15580000.0  1920000            10  \n3              1        0  20150000.0  2170000             3  \n4              1        0   4250000.0   430000             6  \n...          ...      ...         ...      ...           ...  \n1017076        1        0   1150000.0    80000            10  \n1017077        1        0   1350000.0   130000             8  \n1017078        1        0  15150000.0  1680000             8  \n1017079        1        0   8950000.0  1140000             6  \n1017080        1        0  10600000.0   980000            10  \n\n[1017081 rows x 34 columns]",
      "text/html": "<div>\n<style scoped>\n    .dataframe tbody tr th:only-of-type {\n        vertical-align: middle;\n    }\n\n    .dataframe tbody tr th {\n        vertical-align: top;\n    }\n\n    .dataframe thead th {\n        text-align: right;\n    }\n</style>\n<table border=\"1\" class=\"dataframe\">\n  <thead>\n    <tr style=\"text-align: right;\">\n      <th></th>\n      <th>index</th>\n      <th>Manufacturer_x</th>\n      <th>Model_Name</th>\n      <th>Category_x</th>\n      <th>Screen_Size_x</th>\n      <th>Screen_x</th>\n      <th>CPU_x</th>\n      <th>RAM_x</th>\n      <th>Storage_x</th>\n      <th>GPU_x</th>\n      <th>...</th>\n      <th>GPU_y</th>\n      <th>OS_y</th>\n      <th>OS_Version_y</th>\n      <th>Weight_y</th>\n      <th>Price</th>\n      <th>Quantity</th>\n      <th>Discount</th>\n      <th>Total_Price</th>\n      <th>Profit</th>\n      <th>Ship_Duration</th>\n    </tr>\n  </thead>\n  <tbody>\n    <tr>\n      <th>0</th>\n      <td>0</td>\n      <td>Dell</td>\n      <td>Vostro 3568</td>\n      <td>Notebook</td>\n      <td>15.6\"</td>\n      <td>Full HD 1920x1080</td>\n      <td>Intel Core i5 7200U 2.5GHz</td>\n      <td>8GB</td>\n      <td>256GB SSD</td>\n      <td>AMD Radeon R5 M420</td>\n      <td>...</td>\n      <td>AMD Radeon R5 M420</td>\n      <td>Windows</td>\n      <td>10</td>\n      <td>2.18kg</td>\n      <td>3450000</td>\n      <td>1</td>\n      <td>0</td>\n      <td>3450000.0</td>\n      <td>250000</td>\n      <td>3</td>\n    </tr>\n    <tr>\n      <th>1</th>\n      <td>0</td>\n      <td>Dell</td>\n      <td>Vostro 3568</td>\n      <td>Notebook</td>\n      <td>15.6\"</td>\n      <td>Full HD 1920x1080</td>\n      <td>Intel Core i5 7200U 2.5GHz</td>\n      <td>8GB</td>\n      <td>256GB SSD</td>\n      <td>AMD Radeon R5 M420</td>\n      <td>...</td>\n      <td>AMD Radeon R5 M420X</td>\n      <td>Windows</td>\n      <td>10</td>\n      <td>2.18kg</td>\n      <td>1100000</td>\n      <td>1</td>\n      <td>0</td>\n      <td>1100000.0</td>\n      <td>100000</td>\n      <td>5</td>\n    </tr>\n    <tr>\n      <th>2</th>\n      <td>0</td>\n      <td>Dell</td>\n      <td>Vostro 3568</td>\n      <td>Notebook</td>\n      <td>15.6\"</td>\n      <td>Full HD 1920x1080</td>\n      <td>Intel Core i5 7200U 2.5GHz</td>\n      <td>8GB</td>\n      <td>256GB SSD</td>\n      <td>AMD Radeon R5 M420</td>\n      <td>...</td>\n      <td>Intel HD Graphics 620</td>\n      <td>Windows</td>\n      <td>10</td>\n      <td>2.18kg</td>\n      <td>16400000</td>\n      <td>1</td>\n      <td>5</td>\n      <td>15580000.0</td>\n      <td>1920000</td>\n      <td>10</td>\n    </tr>\n    <tr>\n      <th>3</th>\n      <td>0</td>\n      <td>Dell</td>\n      <td>Vostro 3568</td>\n      <td>Notebook</td>\n      <td>15.6\"</td>\n      <td>Full HD 1920x1080</td>\n      <td>Intel Core i5 7200U 2.5GHz</td>\n      <td>8GB</td>\n      <td>256GB SSD</td>\n      <td>AMD Radeon R5 M420</td>\n      <td>...</td>\n      <td>Intel HD Graphics 620</td>\n      <td>Windows</td>\n      <td>10</td>\n      <td>2.18kg</td>\n      <td>20150000</td>\n      <td>1</td>\n      <td>0</td>\n      <td>20150000.0</td>\n      <td>2170000</td>\n      <td>3</td>\n    </tr>\n    <tr>\n      <th>4</th>\n      <td>0</td>\n      <td>Dell</td>\n      <td>Vostro 3568</td>\n      <td>Notebook</td>\n      <td>15.6\"</td>\n      <td>Full HD 1920x1080</td>\n      <td>Intel Core i5 7200U 2.5GHz</td>\n      <td>8GB</td>\n      <td>256GB SSD</td>\n      <td>AMD Radeon R5 M420</td>\n      <td>...</td>\n      <td>AMD Radeon R5 M420</td>\n      <td>Windows</td>\n      <td>10</td>\n      <td>2.18kg</td>\n      <td>4250000</td>\n      <td>1</td>\n      <td>0</td>\n      <td>4250000.0</td>\n      <td>430000</td>\n      <td>6</td>\n    </tr>\n    <tr>\n      <th>...</th>\n      <td>...</td>\n      <td>...</td>\n      <td>...</td>\n      <td>...</td>\n      <td>...</td>\n      <td>...</td>\n      <td>...</td>\n      <td>...</td>\n      <td>...</td>\n      <td>...</td>\n      <td>...</td>\n      <td>...</td>\n      <td>...</td>\n      <td>...</td>\n      <td>...</td>\n      <td>...</td>\n      <td>...</td>\n      <td>...</td>\n      <td>...</td>\n      <td>...</td>\n      <td>...</td>\n    </tr>\n    <tr>\n      <th>1017076</th>\n      <td>42351</td>\n      <td>HP</td>\n      <td>15-bs018nq (i3-6006U/4GB/500GB/FHD/No</td>\n      <td>Notebook</td>\n      <td>15.6\"</td>\n      <td>Full HD 1920x1080</td>\n      <td>Intel Core i3 6006U 2GHz</td>\n      <td>4GB</td>\n      <td>500GB HDD</td>\n      <td>Intel HD Graphics 520</td>\n      <td>...</td>\n      <td>Intel HD Graphics 520</td>\n      <td>No OS</td>\n      <td>NaN</td>\n      <td>2.1kg</td>\n      <td>1150000</td>\n      <td>1</td>\n      <td>0</td>\n      <td>1150000.0</td>\n      <td>80000</td>\n      <td>10</td>\n    </tr>\n    <tr>\n      <th>1017077</th>\n      <td>42351</td>\n      <td>HP</td>\n      <td>15-bs018nq (i3-6006U/4GB/500GB/FHD/No</td>\n      <td>Notebook</td>\n      <td>15.6\"</td>\n      <td>Full HD 1920x1080</td>\n      <td>Intel Core i3 6006U 2GHz</td>\n      <td>4GB</td>\n      <td>500GB HDD</td>\n      <td>Intel HD Graphics 520</td>\n      <td>...</td>\n      <td>Intel HD Graphics 520</td>\n      <td>No OS</td>\n      <td>NaN</td>\n      <td>2.1kg</td>\n      <td>1350000</td>\n      <td>1</td>\n      <td>0</td>\n      <td>1350000.0</td>\n      <td>130000</td>\n      <td>8</td>\n    </tr>\n    <tr>\n      <th>1017078</th>\n      <td>42351</td>\n      <td>HP</td>\n      <td>15-bs018nq (i3-6006U/4GB/500GB/FHD/No</td>\n      <td>Notebook</td>\n      <td>15.6\"</td>\n      <td>Full HD 1920x1080</td>\n      <td>Intel Core i3 6006U 2GHz</td>\n      <td>4GB</td>\n      <td>500GB HDD</td>\n      <td>Intel HD Graphics 520</td>\n      <td>...</td>\n      <td>Intel HD Graphics 520</td>\n      <td>No OS</td>\n      <td>NaN</td>\n      <td>2.1kg</td>\n      <td>15150000</td>\n      <td>1</td>\n      <td>0</td>\n      <td>15150000.0</td>\n      <td>1680000</td>\n      <td>8</td>\n    </tr>\n    <tr>\n      <th>1017079</th>\n      <td>42351</td>\n      <td>HP</td>\n      <td>15-bs018nq (i3-6006U/4GB/500GB/FHD/No</td>\n      <td>Notebook</td>\n      <td>15.6\"</td>\n      <td>Full HD 1920x1080</td>\n      <td>Intel Core i3 6006U 2GHz</td>\n      <td>4GB</td>\n      <td>500GB HDD</td>\n      <td>Intel HD Graphics 520</td>\n      <td>...</td>\n      <td>Intel HD Graphics 520</td>\n      <td>No OS</td>\n      <td>NaN</td>\n      <td>2.1kg</td>\n      <td>8950000</td>\n      <td>1</td>\n      <td>0</td>\n      <td>8950000.0</td>\n      <td>1140000</td>\n      <td>6</td>\n    </tr>\n    <tr>\n      <th>1017080</th>\n      <td>42351</td>\n      <td>HP</td>\n      <td>15-bs018nq (i3-6006U/4GB/500GB/FHD/No</td>\n      <td>Notebook</td>\n      <td>15.6\"</td>\n      <td>Full HD 1920x1080</td>\n      <td>Intel Core i3 6006U 2GHz</td>\n      <td>4GB</td>\n      <td>500GB HDD</td>\n      <td>Intel HD Graphics 520</td>\n      <td>...</td>\n      <td>Intel HD Graphics 520</td>\n      <td>No OS</td>\n      <td>NaN</td>\n      <td>2.1kg</td>\n      <td>10600000</td>\n      <td>1</td>\n      <td>0</td>\n      <td>10600000.0</td>\n      <td>980000</td>\n      <td>10</td>\n    </tr>\n  </tbody>\n</table>\n<p>1017081 rows × 34 columns</p>\n</div>"
     },
     "execution_count": 42,
     "metadata": {},
     "output_type": "execute_result"
    }
   ],
   "source": [
    "df_order = df_laptop.merge(df_data_sales, on='Model_Name' , how='left')\n",
    "df_order"
   ],
   "metadata": {
    "collapsed": false,
    "ExecuteTime": {
     "end_time": "2023-10-18T09:06:33.468160500Z",
     "start_time": "2023-10-18T09:06:32.131194Z"
    },
    "pycharm": {
     "name": "#%%\n"
    }
   },
   "id": "13b6ace0653a776e"
  },
  {
   "cell_type": "code",
   "execution_count": 43,
   "outputs": [
    {
     "data": {
      "text/plain": "         index  Order_ID   Branch  Order_Date Order_Priority     Price  \\\n0            0         0  Hamedan  1396-10-26              H   3450000   \n1            0        20  Mashhad  1391-01-20              M   1100000   \n2            0        72     Yazd  1401-02-09              L  16400000   \n3            0       204   Tabriz  1400-05-25              H  20150000   \n4            0       297  Isfahan  1397-02-30              M   4250000   \n...        ...       ...      ...         ...            ...       ...   \n1017076  42351    926808    Rasht  1394-12-24              L   1150000   \n1017077  42351    944117    Karaj  1396-07-15              L   1350000   \n1017078  42351    987849  Hamedan  1401-11-25              L  15150000   \n1017079  42351   1006977  Mashhad  1401-05-27              M   8950000   \n1017080  42351   1015533     Kish  1401-06-20              L  10600000   \n\n         Quantity  Discount  Total_Price   Profit  Ship_Duration  \n0               1         0    3450000.0   250000              3  \n1               1         0    1100000.0   100000              5  \n2               1         5   15580000.0  1920000             10  \n3               1         0   20150000.0  2170000              3  \n4               1         0    4250000.0   430000              6  \n...           ...       ...          ...      ...            ...  \n1017076         1         0    1150000.0    80000             10  \n1017077         1         0    1350000.0   130000              8  \n1017078         1         0   15150000.0  1680000              8  \n1017079         1         0    8950000.0  1140000              6  \n1017080         1         0   10600000.0   980000             10  \n\n[1017081 rows x 11 columns]",
      "text/html": "<div>\n<style scoped>\n    .dataframe tbody tr th:only-of-type {\n        vertical-align: middle;\n    }\n\n    .dataframe tbody tr th {\n        vertical-align: top;\n    }\n\n    .dataframe thead th {\n        text-align: right;\n    }\n</style>\n<table border=\"1\" class=\"dataframe\">\n  <thead>\n    <tr style=\"text-align: right;\">\n      <th></th>\n      <th>index</th>\n      <th>Order_ID</th>\n      <th>Branch</th>\n      <th>Order_Date</th>\n      <th>Order_Priority</th>\n      <th>Price</th>\n      <th>Quantity</th>\n      <th>Discount</th>\n      <th>Total_Price</th>\n      <th>Profit</th>\n      <th>Ship_Duration</th>\n    </tr>\n  </thead>\n  <tbody>\n    <tr>\n      <th>0</th>\n      <td>0</td>\n      <td>0</td>\n      <td>Hamedan</td>\n      <td>1396-10-26</td>\n      <td>H</td>\n      <td>3450000</td>\n      <td>1</td>\n      <td>0</td>\n      <td>3450000.0</td>\n      <td>250000</td>\n      <td>3</td>\n    </tr>\n    <tr>\n      <th>1</th>\n      <td>0</td>\n      <td>20</td>\n      <td>Mashhad</td>\n      <td>1391-01-20</td>\n      <td>M</td>\n      <td>1100000</td>\n      <td>1</td>\n      <td>0</td>\n      <td>1100000.0</td>\n      <td>100000</td>\n      <td>5</td>\n    </tr>\n    <tr>\n      <th>2</th>\n      <td>0</td>\n      <td>72</td>\n      <td>Yazd</td>\n      <td>1401-02-09</td>\n      <td>L</td>\n      <td>16400000</td>\n      <td>1</td>\n      <td>5</td>\n      <td>15580000.0</td>\n      <td>1920000</td>\n      <td>10</td>\n    </tr>\n    <tr>\n      <th>3</th>\n      <td>0</td>\n      <td>204</td>\n      <td>Tabriz</td>\n      <td>1400-05-25</td>\n      <td>H</td>\n      <td>20150000</td>\n      <td>1</td>\n      <td>0</td>\n      <td>20150000.0</td>\n      <td>2170000</td>\n      <td>3</td>\n    </tr>\n    <tr>\n      <th>4</th>\n      <td>0</td>\n      <td>297</td>\n      <td>Isfahan</td>\n      <td>1397-02-30</td>\n      <td>M</td>\n      <td>4250000</td>\n      <td>1</td>\n      <td>0</td>\n      <td>4250000.0</td>\n      <td>430000</td>\n      <td>6</td>\n    </tr>\n    <tr>\n      <th>...</th>\n      <td>...</td>\n      <td>...</td>\n      <td>...</td>\n      <td>...</td>\n      <td>...</td>\n      <td>...</td>\n      <td>...</td>\n      <td>...</td>\n      <td>...</td>\n      <td>...</td>\n      <td>...</td>\n    </tr>\n    <tr>\n      <th>1017076</th>\n      <td>42351</td>\n      <td>926808</td>\n      <td>Rasht</td>\n      <td>1394-12-24</td>\n      <td>L</td>\n      <td>1150000</td>\n      <td>1</td>\n      <td>0</td>\n      <td>1150000.0</td>\n      <td>80000</td>\n      <td>10</td>\n    </tr>\n    <tr>\n      <th>1017077</th>\n      <td>42351</td>\n      <td>944117</td>\n      <td>Karaj</td>\n      <td>1396-07-15</td>\n      <td>L</td>\n      <td>1350000</td>\n      <td>1</td>\n      <td>0</td>\n      <td>1350000.0</td>\n      <td>130000</td>\n      <td>8</td>\n    </tr>\n    <tr>\n      <th>1017078</th>\n      <td>42351</td>\n      <td>987849</td>\n      <td>Hamedan</td>\n      <td>1401-11-25</td>\n      <td>L</td>\n      <td>15150000</td>\n      <td>1</td>\n      <td>0</td>\n      <td>15150000.0</td>\n      <td>1680000</td>\n      <td>8</td>\n    </tr>\n    <tr>\n      <th>1017079</th>\n      <td>42351</td>\n      <td>1006977</td>\n      <td>Mashhad</td>\n      <td>1401-05-27</td>\n      <td>M</td>\n      <td>8950000</td>\n      <td>1</td>\n      <td>0</td>\n      <td>8950000.0</td>\n      <td>1140000</td>\n      <td>6</td>\n    </tr>\n    <tr>\n      <th>1017080</th>\n      <td>42351</td>\n      <td>1015533</td>\n      <td>Kish</td>\n      <td>1401-06-20</td>\n      <td>L</td>\n      <td>10600000</td>\n      <td>1</td>\n      <td>0</td>\n      <td>10600000.0</td>\n      <td>980000</td>\n      <td>10</td>\n    </tr>\n  </tbody>\n</table>\n<p>1017081 rows × 11 columns</p>\n</div>"
     },
     "execution_count": 43,
     "metadata": {},
     "output_type": "execute_result"
    }
   ],
   "source": [
    "df_order.drop(columns=['Model_Name', 'Manufacturer_x' , 'Manufacturer_y' , 'RAM_x', 'RAM_y' , 'Category_x', 'Category_y' , 'CPU_x', 'CPU_y' ,'Screen_Size_x','Screen_Size_y', 'Screen_x', 'Screen_y', 'Storage_x', 'Storage_y', 'GPU_x' , 'GPU_y', 'OS_Version_x', 'OS_Version_y', 'OS_x', 'OS_y', 'Weight_x', 'Weight_y' ], axis= 1 , inplace=True)\n",
    "df_order"
   ],
   "metadata": {
    "collapsed": false,
    "ExecuteTime": {
     "end_time": "2023-10-18T09:06:33.605269100Z",
     "start_time": "2023-10-18T09:06:33.470221600Z"
    },
    "pycharm": {
     "name": "#%%\n"
    }
   },
   "id": "4914686b0493ac58"
  },
  {
   "cell_type": "markdown",
   "source": [
    "# Data Injection "
   ],
   "metadata": {
    "collapsed": false,
    "pycharm": {
     "name": "#%% md\n"
    }
   },
   "id": "f65af4b860ecc0e1"
  },
  {
   "cell_type": "code",
   "execution_count": 1,
   "outputs": [],
   "source": [
    "# Import necessary libraries and modules\n",
    "from sqlalchemy import MetaData, create_engine\n",
    "from sqlalchemy.orm import sessionmaker\n",
    "from sqlalchemy.ext.declarative import declarative_base\n"
   ],
   "metadata": {
    "collapsed": false,
    "ExecuteTime": {
     "end_time": "2023-10-18T09:06:33.606313300Z",
     "start_time": "2023-10-18T09:06:33.594871Z"
    },
    "pycharm": {
     "name": "#%%\n"
    }
   },
   "id": "6d465e6e345bf88e"
  },
  {
   "cell_type": "code",
   "execution_count": 3,
   "outputs": [
    {
     "name": "stdout",
     "output_type": "stream",
     "text": [
      "2023-10-29 02:23:17,385 INFO sqlalchemy.engine.Engine SELECT DATABASE()\n",
      "2023-10-29 02:23:17,385 INFO sqlalchemy.engine.Engine [raw sql] {}\n",
      "2023-10-29 02:23:17,389 INFO sqlalchemy.engine.Engine SELECT @@sql_mode\n",
      "2023-10-29 02:23:17,390 INFO sqlalchemy.engine.Engine [raw sql] {}\n",
      "2023-10-29 02:23:17,391 INFO sqlalchemy.engine.Engine SELECT @@lower_case_table_names\n",
      "2023-10-29 02:23:17,391 INFO sqlalchemy.engine.Engine [raw sql] {}\n"
     ]
    }
   ],
   "source": [
    "# Initialize SQLAlchemy Metadata object\n",
    "meta = MetaData()\n",
    "# Define database connection details\n",
    "USERNAME = 'root'\n",
    "PASSWORD = '*****'\n",
    "SERVER = 'localhost'\n",
    "# Create a SQLAlchemy engine for connecting to the MySQL database\n",
    "engine = create_engine(f'mysql+pymysql://{USERNAME}:{PASSWORD}@{SERVER}:3306/Laptop_analysis_and_Warehousing_g3', echo=True)\n",
    "conn = engine.connect()"
   ],
   "metadata": {
    "collapsed": false,
    "ExecuteTime": {
     "end_time": "2023-10-18T09:06:33.631450600Z",
     "start_time": "2023-10-18T09:06:33.602269400Z"
    },
    "pycharm": {
     "name": "#%%\n"
    }
   },
   "id": "6a781894a5d92e49"
  },
  {
   "cell_type": "code",
   "execution_count": 4,
   "outputs": [],
   "source": [
    "# Create a base class for declarative models\n",
    "Base = declarative_base()"
   ],
   "metadata": {
    "collapsed": false,
    "ExecuteTime": {
     "end_time": "2023-10-18T09:06:33.632529200Z",
     "start_time": "2023-10-18T09:06:33.613562Z"
    },
    "pycharm": {
     "name": "#%%\n"
    }
   },
   "id": "13aa53f6af8c4165"
  },
  {
   "cell_type": "code",
   "execution_count": 5,
   "outputs": [
    {
     "name": "stdout",
     "output_type": "stream",
     "text": [
      "2023-10-29 02:23:23,783 INFO sqlalchemy.engine.Engine BEGIN (implicit)\n",
      "2023-10-29 02:23:23,783 INFO sqlalchemy.engine.Engine COMMIT\n"
     ]
    }
   ],
   "source": [
    "# Create tables in the database based on the defined model classes\n",
    "Base.metadata.create_all(engine)"
   ],
   "metadata": {
    "collapsed": false,
    "ExecuteTime": {
     "end_time": "2023-10-18T09:06:33.665121700Z",
     "start_time": "2023-10-18T09:06:33.619881400Z"
    },
    "pycharm": {
     "name": "#%%\n"
    }
   },
   "id": "e97bb23d572eed9"
  },
  {
   "cell_type": "code",
   "execution_count": 48,
   "outputs": [
    {
     "data": {
      "text/plain": "     laptop_Id Manufacturer                             Model_Name  \\\n0            0         Dell                            Vostro 3568   \n1            1       Lenovo                         Yoga 720-13IKB   \n2            2       Lenovo                     IdeaPad Y700-15ISK   \n3            3         Dell                          Inspiron 5370   \n4            4         Acer                         Aspire E5-576G   \n..         ...          ...                                    ...   \n613      27093       Lenovo         V110-15IAP (N3350/4GB/128GB/No   \n614      31951         Vero       V131 (X5-Z8350/4GB/32GB/FHD/W10)   \n615      32102         Asus         X541NA (N3350/4GB/1TB/FHD/W10)   \n616      40537          MSI                            GT73EVR 7RE   \n617      42351           HP  15-bs018nq (i3-6006U/4GB/500GB/FHD/No   \n\n               Category Screen_Size  \\\n0              Notebook       15.6\"   \n1    2 in 1 Convertible       13.3\"   \n2              Notebook       15.6\"   \n3             Ultrabook       13.3\"   \n4              Notebook       15.6\"   \n..                  ...         ...   \n613            Notebook       15.6\"   \n614            Notebook       13.3\"   \n615            Notebook       15.6\"   \n616              Gaming       17.3\"   \n617            Notebook       15.6\"   \n\n                                        Screen  \\\n0                            Full HD 1920x1080   \n1    IPS Panel Full HD / Touchscreen 1920x1080   \n2                  IPS Panel Full HD 1920x1080   \n3                  IPS Panel Full HD 1920x1080   \n4                            Full HD 1920x1080   \n..                                         ...   \n613                                   1366x768   \n614                          Full HD 1920x1080   \n615                          Full HD 1920x1080   \n616                          Full HD 1920x1080   \n617                          Full HD 1920x1080   \n\n                                      CPU   RAM               Storage  \\\n0              Intel Core i5 7200U 2.5GHz   8GB             256GB SSD   \n1              Intel Core i5 7200U 2.5GHz   8GB             256GB SSD   \n2             Intel Core i7 6700HQ 2.6GHz   8GB               1TB HDD   \n3              Intel Core i7 8550U 1.8GHz   8GB             256GB SSD   \n4              Intel Core i5 7200U 2.5GHz   4GB             256GB SSD   \n..                                    ...   ...                   ...   \n613  Intel Celeron Dual Core N3350 1.1GHz   4GB             128GB SSD   \n614           Intel Atom X5-Z8350 1.44GHz   4GB    32GB Flash Storage   \n615  Intel Celeron Dual Core N3350 1.1GHz   4GB               1TB HDD   \n616           Intel Core i7 7700HQ 2.8GHz  16GB  512GB SSD +  1TB HDD   \n617              Intel Core i3 6006U 2GHz   4GB             500GB HDD   \n\n                         GPU       OS OS_Version  Weight  \n0         AMD Radeon R5 M420  Windows         10  2.18kg  \n1      Intel HD Graphics 620  Windows         10   1.3kg  \n2    Nvidia GeForce GTX 960M  Windows         10   2.6kg  \n3             AMD Radeon 530  Windows         10   1.4kg  \n4       Nvidia GeForce 940MX  Windows         10  2.23kg  \n..                       ...      ...        ...     ...  \n613    Intel HD Graphics 500    No OS        NaN   1.9kg  \n614    Intel HD Graphics 400  Windows         10  1.35kg  \n615    Intel HD Graphics 500  Windows         10     2kg  \n616  Nvidia GeForce GTX 1070  Windows         10  4.14kg  \n617    Intel HD Graphics 520    No OS        NaN   2.1kg  \n\n[618 rows x 13 columns]",
      "text/html": "<div>\n<style scoped>\n    .dataframe tbody tr th:only-of-type {\n        vertical-align: middle;\n    }\n\n    .dataframe tbody tr th {\n        vertical-align: top;\n    }\n\n    .dataframe thead th {\n        text-align: right;\n    }\n</style>\n<table border=\"1\" class=\"dataframe\">\n  <thead>\n    <tr style=\"text-align: right;\">\n      <th></th>\n      <th>laptop_Id</th>\n      <th>Manufacturer</th>\n      <th>Model_Name</th>\n      <th>Category</th>\n      <th>Screen_Size</th>\n      <th>Screen</th>\n      <th>CPU</th>\n      <th>RAM</th>\n      <th>Storage</th>\n      <th>GPU</th>\n      <th>OS</th>\n      <th>OS_Version</th>\n      <th>Weight</th>\n    </tr>\n  </thead>\n  <tbody>\n    <tr>\n      <th>0</th>\n      <td>0</td>\n      <td>Dell</td>\n      <td>Vostro 3568</td>\n      <td>Notebook</td>\n      <td>15.6\"</td>\n      <td>Full HD 1920x1080</td>\n      <td>Intel Core i5 7200U 2.5GHz</td>\n      <td>8GB</td>\n      <td>256GB SSD</td>\n      <td>AMD Radeon R5 M420</td>\n      <td>Windows</td>\n      <td>10</td>\n      <td>2.18kg</td>\n    </tr>\n    <tr>\n      <th>1</th>\n      <td>1</td>\n      <td>Lenovo</td>\n      <td>Yoga 720-13IKB</td>\n      <td>2 in 1 Convertible</td>\n      <td>13.3\"</td>\n      <td>IPS Panel Full HD / Touchscreen 1920x1080</td>\n      <td>Intel Core i5 7200U 2.5GHz</td>\n      <td>8GB</td>\n      <td>256GB SSD</td>\n      <td>Intel HD Graphics 620</td>\n      <td>Windows</td>\n      <td>10</td>\n      <td>1.3kg</td>\n    </tr>\n    <tr>\n      <th>2</th>\n      <td>2</td>\n      <td>Lenovo</td>\n      <td>IdeaPad Y700-15ISK</td>\n      <td>Notebook</td>\n      <td>15.6\"</td>\n      <td>IPS Panel Full HD 1920x1080</td>\n      <td>Intel Core i7 6700HQ 2.6GHz</td>\n      <td>8GB</td>\n      <td>1TB HDD</td>\n      <td>Nvidia GeForce GTX 960M</td>\n      <td>Windows</td>\n      <td>10</td>\n      <td>2.6kg</td>\n    </tr>\n    <tr>\n      <th>3</th>\n      <td>3</td>\n      <td>Dell</td>\n      <td>Inspiron 5370</td>\n      <td>Ultrabook</td>\n      <td>13.3\"</td>\n      <td>IPS Panel Full HD 1920x1080</td>\n      <td>Intel Core i7 8550U 1.8GHz</td>\n      <td>8GB</td>\n      <td>256GB SSD</td>\n      <td>AMD Radeon 530</td>\n      <td>Windows</td>\n      <td>10</td>\n      <td>1.4kg</td>\n    </tr>\n    <tr>\n      <th>4</th>\n      <td>4</td>\n      <td>Acer</td>\n      <td>Aspire E5-576G</td>\n      <td>Notebook</td>\n      <td>15.6\"</td>\n      <td>Full HD 1920x1080</td>\n      <td>Intel Core i5 7200U 2.5GHz</td>\n      <td>4GB</td>\n      <td>256GB SSD</td>\n      <td>Nvidia GeForce 940MX</td>\n      <td>Windows</td>\n      <td>10</td>\n      <td>2.23kg</td>\n    </tr>\n    <tr>\n      <th>...</th>\n      <td>...</td>\n      <td>...</td>\n      <td>...</td>\n      <td>...</td>\n      <td>...</td>\n      <td>...</td>\n      <td>...</td>\n      <td>...</td>\n      <td>...</td>\n      <td>...</td>\n      <td>...</td>\n      <td>...</td>\n      <td>...</td>\n    </tr>\n    <tr>\n      <th>613</th>\n      <td>27093</td>\n      <td>Lenovo</td>\n      <td>V110-15IAP (N3350/4GB/128GB/No</td>\n      <td>Notebook</td>\n      <td>15.6\"</td>\n      <td>1366x768</td>\n      <td>Intel Celeron Dual Core N3350 1.1GHz</td>\n      <td>4GB</td>\n      <td>128GB SSD</td>\n      <td>Intel HD Graphics 500</td>\n      <td>No OS</td>\n      <td>NaN</td>\n      <td>1.9kg</td>\n    </tr>\n    <tr>\n      <th>614</th>\n      <td>31951</td>\n      <td>Vero</td>\n      <td>V131 (X5-Z8350/4GB/32GB/FHD/W10)</td>\n      <td>Notebook</td>\n      <td>13.3\"</td>\n      <td>Full HD 1920x1080</td>\n      <td>Intel Atom X5-Z8350 1.44GHz</td>\n      <td>4GB</td>\n      <td>32GB Flash Storage</td>\n      <td>Intel HD Graphics 400</td>\n      <td>Windows</td>\n      <td>10</td>\n      <td>1.35kg</td>\n    </tr>\n    <tr>\n      <th>615</th>\n      <td>32102</td>\n      <td>Asus</td>\n      <td>X541NA (N3350/4GB/1TB/FHD/W10)</td>\n      <td>Notebook</td>\n      <td>15.6\"</td>\n      <td>Full HD 1920x1080</td>\n      <td>Intel Celeron Dual Core N3350 1.1GHz</td>\n      <td>4GB</td>\n      <td>1TB HDD</td>\n      <td>Intel HD Graphics 500</td>\n      <td>Windows</td>\n      <td>10</td>\n      <td>2kg</td>\n    </tr>\n    <tr>\n      <th>616</th>\n      <td>40537</td>\n      <td>MSI</td>\n      <td>GT73EVR 7RE</td>\n      <td>Gaming</td>\n      <td>17.3\"</td>\n      <td>Full HD 1920x1080</td>\n      <td>Intel Core i7 7700HQ 2.8GHz</td>\n      <td>16GB</td>\n      <td>512GB SSD +  1TB HDD</td>\n      <td>Nvidia GeForce GTX 1070</td>\n      <td>Windows</td>\n      <td>10</td>\n      <td>4.14kg</td>\n    </tr>\n    <tr>\n      <th>617</th>\n      <td>42351</td>\n      <td>HP</td>\n      <td>15-bs018nq (i3-6006U/4GB/500GB/FHD/No</td>\n      <td>Notebook</td>\n      <td>15.6\"</td>\n      <td>Full HD 1920x1080</td>\n      <td>Intel Core i3 6006U 2GHz</td>\n      <td>4GB</td>\n      <td>500GB HDD</td>\n      <td>Intel HD Graphics 520</td>\n      <td>No OS</td>\n      <td>NaN</td>\n      <td>2.1kg</td>\n    </tr>\n  </tbody>\n</table>\n<p>618 rows × 13 columns</p>\n</div>"
     },
     "execution_count": 48,
     "metadata": {},
     "output_type": "execute_result"
    }
   ],
   "source": [
    "# Create a dictionary to specify the column renaming\n",
    "# Rename the 'Old_Column_Name' to 'New_Column_Name'\n",
    "df_laptop_modified = df_laptop.rename(columns={'index': 'laptop_Id'})\n",
    "df_laptop_modified"
   ],
   "metadata": {
    "collapsed": false,
    "ExecuteTime": {
     "end_time": "2023-10-18T09:06:42.791524200Z",
     "start_time": "2023-10-18T09:06:42.788934600Z"
    },
    "pycharm": {
     "name": "#%%\n"
    }
   },
   "id": "fcd25b5f092168dd"
  },
  {
   "cell_type": "code",
   "execution_count": 31,
   "outputs": [
    {
     "data": {
      "text/plain": "        id Manufacturer                             Model_Name  \\\n0        0         Dell                            Vostro 3568   \n1        1       Lenovo                         Yoga 720-13IKB   \n2        2       Lenovo                     IdeaPad Y700-15ISK   \n3        3         Dell                          Inspiron 5370   \n4        4         Acer                         Aspire E5-576G   \n..     ...          ...                                    ...   \n613  27093       Lenovo         V110-15IAP (N3350/4GB/128GB/No   \n614  31951         Vero       V131 (X5-Z8350/4GB/32GB/FHD/W10)   \n615  32102         Asus         X541NA (N3350/4GB/1TB/FHD/W10)   \n616  40537          MSI                            GT73EVR 7RE   \n617  42351           HP  15-bs018nq (i3-6006U/4GB/500GB/FHD/No   \n\n               Category Screen_Size  \\\n0              Notebook       15.6\"   \n1    2 in 1 Convertible       13.3\"   \n2              Notebook       15.6\"   \n3             Ultrabook       13.3\"   \n4              Notebook       15.6\"   \n..                  ...         ...   \n613            Notebook       15.6\"   \n614            Notebook       13.3\"   \n615            Notebook       15.6\"   \n616              Gaming       17.3\"   \n617            Notebook       15.6\"   \n\n                                        Screen  \\\n0                            Full HD 1920x1080   \n1    IPS Panel Full HD / Touchscreen 1920x1080   \n2                  IPS Panel Full HD 1920x1080   \n3                  IPS Panel Full HD 1920x1080   \n4                            Full HD 1920x1080   \n..                                         ...   \n613                                   1366x768   \n614                          Full HD 1920x1080   \n615                          Full HD 1920x1080   \n616                          Full HD 1920x1080   \n617                          Full HD 1920x1080   \n\n                                      CPU   RAM               Storage  \\\n0              Intel Core i5 7200U 2.5GHz   8GB             256GB SSD   \n1              Intel Core i5 7200U 2.5GHz   8GB             256GB SSD   \n2             Intel Core i7 6700HQ 2.6GHz   8GB               1TB HDD   \n3              Intel Core i7 8550U 1.8GHz   8GB             256GB SSD   \n4              Intel Core i5 7200U 2.5GHz   4GB             256GB SSD   \n..                                    ...   ...                   ...   \n613  Intel Celeron Dual Core N3350 1.1GHz   4GB             128GB SSD   \n614           Intel Atom X5-Z8350 1.44GHz   4GB    32GB Flash Storage   \n615  Intel Celeron Dual Core N3350 1.1GHz   4GB               1TB HDD   \n616           Intel Core i7 7700HQ 2.8GHz  16GB  512GB SSD +  1TB HDD   \n617              Intel Core i3 6006U 2GHz   4GB             500GB HDD   \n\n                         GPU       OS OS_Version  Weight  \n0         AMD Radeon R5 M420  Windows         10  2.18kg  \n1      Intel HD Graphics 620  Windows         10   1.3kg  \n2    Nvidia GeForce GTX 960M  Windows         10   2.6kg  \n3             AMD Radeon 530  Windows         10   1.4kg  \n4       Nvidia GeForce 940MX  Windows         10  2.23kg  \n..                       ...      ...        ...     ...  \n613    Intel HD Graphics 500    No OS        NaN   1.9kg  \n614    Intel HD Graphics 400  Windows         10  1.35kg  \n615    Intel HD Graphics 500  Windows         10     2kg  \n616  Nvidia GeForce GTX 1070  Windows         10  4.14kg  \n617    Intel HD Graphics 520    No OS        NaN   2.1kg  \n\n[618 rows x 13 columns]",
      "text/html": "<div>\n<style scoped>\n    .dataframe tbody tr th:only-of-type {\n        vertical-align: middle;\n    }\n\n    .dataframe tbody tr th {\n        vertical-align: top;\n    }\n\n    .dataframe thead th {\n        text-align: right;\n    }\n</style>\n<table border=\"1\" class=\"dataframe\">\n  <thead>\n    <tr style=\"text-align: right;\">\n      <th></th>\n      <th>id</th>\n      <th>Manufacturer</th>\n      <th>Model_Name</th>\n      <th>Category</th>\n      <th>Screen_Size</th>\n      <th>Screen</th>\n      <th>CPU</th>\n      <th>RAM</th>\n      <th>Storage</th>\n      <th>GPU</th>\n      <th>OS</th>\n      <th>OS_Version</th>\n      <th>Weight</th>\n    </tr>\n  </thead>\n  <tbody>\n    <tr>\n      <th>0</th>\n      <td>0</td>\n      <td>Dell</td>\n      <td>Vostro 3568</td>\n      <td>Notebook</td>\n      <td>15.6\"</td>\n      <td>Full HD 1920x1080</td>\n      <td>Intel Core i5 7200U 2.5GHz</td>\n      <td>8GB</td>\n      <td>256GB SSD</td>\n      <td>AMD Radeon R5 M420</td>\n      <td>Windows</td>\n      <td>10</td>\n      <td>2.18kg</td>\n    </tr>\n    <tr>\n      <th>1</th>\n      <td>1</td>\n      <td>Lenovo</td>\n      <td>Yoga 720-13IKB</td>\n      <td>2 in 1 Convertible</td>\n      <td>13.3\"</td>\n      <td>IPS Panel Full HD / Touchscreen 1920x1080</td>\n      <td>Intel Core i5 7200U 2.5GHz</td>\n      <td>8GB</td>\n      <td>256GB SSD</td>\n      <td>Intel HD Graphics 620</td>\n      <td>Windows</td>\n      <td>10</td>\n      <td>1.3kg</td>\n    </tr>\n    <tr>\n      <th>2</th>\n      <td>2</td>\n      <td>Lenovo</td>\n      <td>IdeaPad Y700-15ISK</td>\n      <td>Notebook</td>\n      <td>15.6\"</td>\n      <td>IPS Panel Full HD 1920x1080</td>\n      <td>Intel Core i7 6700HQ 2.6GHz</td>\n      <td>8GB</td>\n      <td>1TB HDD</td>\n      <td>Nvidia GeForce GTX 960M</td>\n      <td>Windows</td>\n      <td>10</td>\n      <td>2.6kg</td>\n    </tr>\n    <tr>\n      <th>3</th>\n      <td>3</td>\n      <td>Dell</td>\n      <td>Inspiron 5370</td>\n      <td>Ultrabook</td>\n      <td>13.3\"</td>\n      <td>IPS Panel Full HD 1920x1080</td>\n      <td>Intel Core i7 8550U 1.8GHz</td>\n      <td>8GB</td>\n      <td>256GB SSD</td>\n      <td>AMD Radeon 530</td>\n      <td>Windows</td>\n      <td>10</td>\n      <td>1.4kg</td>\n    </tr>\n    <tr>\n      <th>4</th>\n      <td>4</td>\n      <td>Acer</td>\n      <td>Aspire E5-576G</td>\n      <td>Notebook</td>\n      <td>15.6\"</td>\n      <td>Full HD 1920x1080</td>\n      <td>Intel Core i5 7200U 2.5GHz</td>\n      <td>4GB</td>\n      <td>256GB SSD</td>\n      <td>Nvidia GeForce 940MX</td>\n      <td>Windows</td>\n      <td>10</td>\n      <td>2.23kg</td>\n    </tr>\n    <tr>\n      <th>...</th>\n      <td>...</td>\n      <td>...</td>\n      <td>...</td>\n      <td>...</td>\n      <td>...</td>\n      <td>...</td>\n      <td>...</td>\n      <td>...</td>\n      <td>...</td>\n      <td>...</td>\n      <td>...</td>\n      <td>...</td>\n      <td>...</td>\n    </tr>\n    <tr>\n      <th>613</th>\n      <td>27093</td>\n      <td>Lenovo</td>\n      <td>V110-15IAP (N3350/4GB/128GB/No</td>\n      <td>Notebook</td>\n      <td>15.6\"</td>\n      <td>1366x768</td>\n      <td>Intel Celeron Dual Core N3350 1.1GHz</td>\n      <td>4GB</td>\n      <td>128GB SSD</td>\n      <td>Intel HD Graphics 500</td>\n      <td>No OS</td>\n      <td>NaN</td>\n      <td>1.9kg</td>\n    </tr>\n    <tr>\n      <th>614</th>\n      <td>31951</td>\n      <td>Vero</td>\n      <td>V131 (X5-Z8350/4GB/32GB/FHD/W10)</td>\n      <td>Notebook</td>\n      <td>13.3\"</td>\n      <td>Full HD 1920x1080</td>\n      <td>Intel Atom X5-Z8350 1.44GHz</td>\n      <td>4GB</td>\n      <td>32GB Flash Storage</td>\n      <td>Intel HD Graphics 400</td>\n      <td>Windows</td>\n      <td>10</td>\n      <td>1.35kg</td>\n    </tr>\n    <tr>\n      <th>615</th>\n      <td>32102</td>\n      <td>Asus</td>\n      <td>X541NA (N3350/4GB/1TB/FHD/W10)</td>\n      <td>Notebook</td>\n      <td>15.6\"</td>\n      <td>Full HD 1920x1080</td>\n      <td>Intel Celeron Dual Core N3350 1.1GHz</td>\n      <td>4GB</td>\n      <td>1TB HDD</td>\n      <td>Intel HD Graphics 500</td>\n      <td>Windows</td>\n      <td>10</td>\n      <td>2kg</td>\n    </tr>\n    <tr>\n      <th>616</th>\n      <td>40537</td>\n      <td>MSI</td>\n      <td>GT73EVR 7RE</td>\n      <td>Gaming</td>\n      <td>17.3\"</td>\n      <td>Full HD 1920x1080</td>\n      <td>Intel Core i7 7700HQ 2.8GHz</td>\n      <td>16GB</td>\n      <td>512GB SSD +  1TB HDD</td>\n      <td>Nvidia GeForce GTX 1070</td>\n      <td>Windows</td>\n      <td>10</td>\n      <td>4.14kg</td>\n    </tr>\n    <tr>\n      <th>617</th>\n      <td>42351</td>\n      <td>HP</td>\n      <td>15-bs018nq (i3-6006U/4GB/500GB/FHD/No</td>\n      <td>Notebook</td>\n      <td>15.6\"</td>\n      <td>Full HD 1920x1080</td>\n      <td>Intel Core i3 6006U 2GHz</td>\n      <td>4GB</td>\n      <td>500GB HDD</td>\n      <td>Intel HD Graphics 520</td>\n      <td>No OS</td>\n      <td>NaN</td>\n      <td>2.1kg</td>\n    </tr>\n  </tbody>\n</table>\n<p>618 rows × 13 columns</p>\n</div>"
     },
     "execution_count": 31,
     "metadata": {},
     "output_type": "execute_result"
    }
   ],
   "source": [
    "df_laptop_modified.drop_duplicates('id')\n",
    "df_laptop_modified"
   ],
   "metadata": {
    "collapsed": false,
    "ExecuteTime": {
     "end_time": "2023-10-18T08:53:24.594821200Z",
     "start_time": "2023-10-18T08:53:24.592311400Z"
    },
    "pycharm": {
     "name": "#%%\n"
    }
   },
   "id": "8704106b70fce4cb"
  },
  {
   "cell_type": "code",
   "execution_count": 59,
   "outputs": [
    {
     "name": "stdout",
     "output_type": "stream",
     "text": [
      "2023-10-18 12:47:53,124 INFO sqlalchemy.engine.Engine BEGIN (implicit)\n",
      "2023-10-18 12:47:53,127 INFO sqlalchemy.engine.Engine SELECT COUNT(*) FROM information_schema.tables WHERE table_schema = %(table_schema)s AND table_name = %(table_name)s\n",
      "2023-10-18 12:47:53,128 INFO sqlalchemy.engine.Engine [cached since 653.8s ago] {'table_schema': 'laptop_analysis_and_warehousing_g3', 'table_name': 'laptop'}\n",
      "2023-10-18 12:47:53,136 INFO sqlalchemy.engine.Engine INSERT INTO laptop (`laptop_Id`, `Manufacturer`, `Model_Name`, `Category`, `Screen_Size`, `Screen`, `CPU`, `RAM`, `Storage`, `GPU`, `OS`, `OS_Version`, `Weight`) VALUES (%(laptop_Id)s, %(Manufacturer)s, %(Model_Name)s, %(Category)s, %(Screen_Size)s, %(Screen)s, %(CPU)s, %(RAM)s, %(Storage)s, %(GPU)s, %(OS)s, %(OS_Version)s, %(Weight)s)\n",
      "2023-10-18 12:47:53,137 INFO sqlalchemy.engine.Engine [generated in 0.00377s] ({'laptop_Id': 0, 'Manufacturer': 'Dell', 'Model_Name': 'Vostro 3568', 'Category': 'Notebook', 'Screen_Size': '15.6\"', 'Screen': 'Full HD 1920x1080', 'CPU': 'Intel Core i5 7200U 2.5GHz', 'RAM': '8GB', 'Storage': '256GB SSD', 'GPU': 'AMD Radeon R5 M420', 'OS': 'Windows', 'OS_Version': '10', 'Weight': '2.18kg'}, {'laptop_Id': 1, 'Manufacturer': 'Lenovo', 'Model_Name': 'Yoga 720-13IKB', 'Category': '2 in 1 Convertible', 'Screen_Size': '13.3\"', 'Screen': 'IPS Panel Full HD / Touchscreen 1920x1080', 'CPU': 'Intel Core i5 7200U 2.5GHz', 'RAM': '8GB', 'Storage': '256GB SSD', 'GPU': 'Intel HD Graphics 620', 'OS': 'Windows', 'OS_Version': '10', 'Weight': '1.3kg'}, {'laptop_Id': 2, 'Manufacturer': 'Lenovo', 'Model_Name': 'IdeaPad Y700-15ISK', 'Category': 'Notebook', 'Screen_Size': '15.6\"', 'Screen': 'IPS Panel Full HD 1920x1080', 'CPU': 'Intel Core i7 6700HQ 2.6GHz', 'RAM': '8GB', 'Storage': '1TB HDD', 'GPU': 'Nvidia GeForce GTX 960M', 'OS': 'Windows', 'OS_Version': '10', 'Weight': '2.6kg'}, {'laptop_Id': 3, 'Manufacturer': 'Dell', 'Model_Name': 'Inspiron 5370', 'Category': 'Ultrabook', 'Screen_Size': '13.3\"', 'Screen': 'IPS Panel Full HD 1920x1080', 'CPU': 'Intel Core i7 8550U 1.8GHz', 'RAM': '8GB', 'Storage': '256GB SSD', 'GPU': 'AMD Radeon 530', 'OS': 'Windows', 'OS_Version': '10', 'Weight': '1.4kg'}, {'laptop_Id': 4, 'Manufacturer': 'Acer', 'Model_Name': 'Aspire E5-576G', 'Category': 'Notebook', 'Screen_Size': '15.6\"', 'Screen': 'Full HD 1920x1080', 'CPU': 'Intel Core i5 7200U 2.5GHz', 'RAM': '4GB', 'Storage': '256GB SSD', 'GPU': 'Nvidia GeForce 940MX', 'OS': 'Windows', 'OS_Version': '10', 'Weight': '2.23kg'}, {'laptop_Id': 5, 'Manufacturer': 'Lenovo', 'Model_Name': 'IdeaPad Y700-15ACZ', 'Category': 'Gaming', 'Screen_Size': '15.6\"', 'Screen': 'IPS Panel Full HD 1920x1080', 'CPU': 'AMD FX 8800P 2.1GHz', 'RAM': '16GB', 'Storage': '512GB SSD +  1TB HDD', 'GPU': 'AMD Radeon R9 M385', 'OS': 'Windows', 'OS_Version': '10', 'Weight': '2.5kg'}, {'laptop_Id': 6, 'Manufacturer': 'Lenovo', 'Model_Name': 'IdeaPad 320-15IKB', 'Category': 'Notebook', 'Screen_Size': '15.6\"', 'Screen': 'Full HD 1920x1080', 'CPU': 'Intel Core i7 7500U 2.7GHz', 'RAM': '4GB', 'Storage': '1TB HDD', 'GPU': 'Nvidia GeForce 920MX', 'OS': 'Windows', 'OS_Version': '10', 'Weight': '2.2kg'}, {'laptop_Id': 7, 'Manufacturer': 'Lenovo', 'Model_Name': 'ThinkPad E570', 'Category': 'Notebook', 'Screen_Size': '15.6\"', 'Screen': 'IPS Panel Full HD 1920x1080', 'CPU': 'Intel Core i5 7200U 2.5GHz', 'RAM': '8GB', 'Storage': '1TB HDD', 'GPU': 'Intel HD Graphics 620', 'OS': 'Windows', 'OS_Version': '10', 'Weight': '2.3kg'}  ... displaying 10 of 618 total bound parameter sets ...  {'laptop_Id': 40537, 'Manufacturer': 'MSI', 'Model_Name': 'GT73EVR 7RE', 'Category': 'Gaming', 'Screen_Size': '17.3\"', 'Screen': 'Full HD 1920x1080', 'CPU': 'Intel Core i7 7700HQ 2.8GHz', 'RAM': '16GB', 'Storage': '512GB SSD +  1TB HDD', 'GPU': 'Nvidia GeForce GTX 1070', 'OS': 'Windows', 'OS_Version': '10', 'Weight': '4.14kg'}, {'laptop_Id': 42351, 'Manufacturer': 'HP', 'Model_Name': '15-bs018nq (i3-6006U/4GB/500GB/FHD/No', 'Category': 'Notebook', 'Screen_Size': '15.6\"', 'Screen': 'Full HD 1920x1080', 'CPU': 'Intel Core i3 6006U 2GHz', 'RAM': '4GB', 'Storage': '500GB HDD', 'GPU': 'Intel HD Graphics 520', 'OS': 'No OS', 'OS_Version': None, 'Weight': '2.1kg'})\n",
      "2023-10-18 12:47:53,162 INFO sqlalchemy.engine.Engine COMMIT\n"
     ]
    }
   ],
   "source": [
    "# Create a session to insert data into the tables\n",
    "Session = sessionmaker(bind=engine)\n",
    "session = Session()\n",
    "\n",
    "# Insert data from the DataFrame into publisher table\n",
    "df_laptop_modified[['laptop_Id', 'Manufacturer', 'Model_Name', 'Category', 'Screen_Size', 'Screen', 'CPU', 'RAM', 'Storage', 'GPU', 'OS',\n",
    "          'OS_Version', 'Weight']].to_sql('laptop', con=engine, if_exists='append', index=False)\n",
    "\n",
    "# Commit changes and close the session\n",
    "session.commit()\n",
    "session.close()"
   ],
   "metadata": {
    "collapsed": false,
    "ExecuteTime": {
     "end_time": "2023-10-18T09:17:53.169003700Z",
     "start_time": "2023-10-18T09:17:53.125531700Z"
    },
    "pycharm": {
     "name": "#%%\n"
    }
   },
   "id": "7dc2548b3ba6301d"
  },
  {
   "cell_type": "code",
   "execution_count": 51,
   "outputs": [
    {
     "data": {
      "text/plain": "         laptop_Id  Order_ID   Branch  Order_Date Order_Priority     Price  \\\n0                0         0  Hamedan  1396-10-26              H   3450000   \n1                0        20  Mashhad  1391-01-20              M   1100000   \n2                0        72     Yazd  1401-02-09              L  16400000   \n3                0       204   Tabriz  1400-05-25              H  20150000   \n4                0       297  Isfahan  1397-02-30              M   4250000   \n...            ...       ...      ...         ...            ...       ...   \n1017076      42351    926808    Rasht  1394-12-24              L   1150000   \n1017077      42351    944117    Karaj  1396-07-15              L   1350000   \n1017078      42351    987849  Hamedan  1401-11-25              L  15150000   \n1017079      42351   1006977  Mashhad  1401-05-27              M   8950000   \n1017080      42351   1015533     Kish  1401-06-20              L  10600000   \n\n         Quantity  Discount  Total_Price   Profit  Ship_Duration  \n0               1         0    3450000.0   250000              3  \n1               1         0    1100000.0   100000              5  \n2               1         5   15580000.0  1920000             10  \n3               1         0   20150000.0  2170000              3  \n4               1         0    4250000.0   430000              6  \n...           ...       ...          ...      ...            ...  \n1017076         1         0    1150000.0    80000             10  \n1017077         1         0    1350000.0   130000              8  \n1017078         1         0   15150000.0  1680000              8  \n1017079         1         0    8950000.0  1140000              6  \n1017080         1         0   10600000.0   980000             10  \n\n[1017081 rows x 11 columns]",
      "text/html": "<div>\n<style scoped>\n    .dataframe tbody tr th:only-of-type {\n        vertical-align: middle;\n    }\n\n    .dataframe tbody tr th {\n        vertical-align: top;\n    }\n\n    .dataframe thead th {\n        text-align: right;\n    }\n</style>\n<table border=\"1\" class=\"dataframe\">\n  <thead>\n    <tr style=\"text-align: right;\">\n      <th></th>\n      <th>laptop_Id</th>\n      <th>Order_ID</th>\n      <th>Branch</th>\n      <th>Order_Date</th>\n      <th>Order_Priority</th>\n      <th>Price</th>\n      <th>Quantity</th>\n      <th>Discount</th>\n      <th>Total_Price</th>\n      <th>Profit</th>\n      <th>Ship_Duration</th>\n    </tr>\n  </thead>\n  <tbody>\n    <tr>\n      <th>0</th>\n      <td>0</td>\n      <td>0</td>\n      <td>Hamedan</td>\n      <td>1396-10-26</td>\n      <td>H</td>\n      <td>3450000</td>\n      <td>1</td>\n      <td>0</td>\n      <td>3450000.0</td>\n      <td>250000</td>\n      <td>3</td>\n    </tr>\n    <tr>\n      <th>1</th>\n      <td>0</td>\n      <td>20</td>\n      <td>Mashhad</td>\n      <td>1391-01-20</td>\n      <td>M</td>\n      <td>1100000</td>\n      <td>1</td>\n      <td>0</td>\n      <td>1100000.0</td>\n      <td>100000</td>\n      <td>5</td>\n    </tr>\n    <tr>\n      <th>2</th>\n      <td>0</td>\n      <td>72</td>\n      <td>Yazd</td>\n      <td>1401-02-09</td>\n      <td>L</td>\n      <td>16400000</td>\n      <td>1</td>\n      <td>5</td>\n      <td>15580000.0</td>\n      <td>1920000</td>\n      <td>10</td>\n    </tr>\n    <tr>\n      <th>3</th>\n      <td>0</td>\n      <td>204</td>\n      <td>Tabriz</td>\n      <td>1400-05-25</td>\n      <td>H</td>\n      <td>20150000</td>\n      <td>1</td>\n      <td>0</td>\n      <td>20150000.0</td>\n      <td>2170000</td>\n      <td>3</td>\n    </tr>\n    <tr>\n      <th>4</th>\n      <td>0</td>\n      <td>297</td>\n      <td>Isfahan</td>\n      <td>1397-02-30</td>\n      <td>M</td>\n      <td>4250000</td>\n      <td>1</td>\n      <td>0</td>\n      <td>4250000.0</td>\n      <td>430000</td>\n      <td>6</td>\n    </tr>\n    <tr>\n      <th>...</th>\n      <td>...</td>\n      <td>...</td>\n      <td>...</td>\n      <td>...</td>\n      <td>...</td>\n      <td>...</td>\n      <td>...</td>\n      <td>...</td>\n      <td>...</td>\n      <td>...</td>\n      <td>...</td>\n    </tr>\n    <tr>\n      <th>1017076</th>\n      <td>42351</td>\n      <td>926808</td>\n      <td>Rasht</td>\n      <td>1394-12-24</td>\n      <td>L</td>\n      <td>1150000</td>\n      <td>1</td>\n      <td>0</td>\n      <td>1150000.0</td>\n      <td>80000</td>\n      <td>10</td>\n    </tr>\n    <tr>\n      <th>1017077</th>\n      <td>42351</td>\n      <td>944117</td>\n      <td>Karaj</td>\n      <td>1396-07-15</td>\n      <td>L</td>\n      <td>1350000</td>\n      <td>1</td>\n      <td>0</td>\n      <td>1350000.0</td>\n      <td>130000</td>\n      <td>8</td>\n    </tr>\n    <tr>\n      <th>1017078</th>\n      <td>42351</td>\n      <td>987849</td>\n      <td>Hamedan</td>\n      <td>1401-11-25</td>\n      <td>L</td>\n      <td>15150000</td>\n      <td>1</td>\n      <td>0</td>\n      <td>15150000.0</td>\n      <td>1680000</td>\n      <td>8</td>\n    </tr>\n    <tr>\n      <th>1017079</th>\n      <td>42351</td>\n      <td>1006977</td>\n      <td>Mashhad</td>\n      <td>1401-05-27</td>\n      <td>M</td>\n      <td>8950000</td>\n      <td>1</td>\n      <td>0</td>\n      <td>8950000.0</td>\n      <td>1140000</td>\n      <td>6</td>\n    </tr>\n    <tr>\n      <th>1017080</th>\n      <td>42351</td>\n      <td>1015533</td>\n      <td>Kish</td>\n      <td>1401-06-20</td>\n      <td>L</td>\n      <td>10600000</td>\n      <td>1</td>\n      <td>0</td>\n      <td>10600000.0</td>\n      <td>980000</td>\n      <td>10</td>\n    </tr>\n  </tbody>\n</table>\n<p>1017081 rows × 11 columns</p>\n</div>"
     },
     "execution_count": 51,
     "metadata": {},
     "output_type": "execute_result"
    }
   ],
   "source": [
    "# Create a dictionary to specify the column renaming\n",
    "# Rename the 'Old_Column_Name' to 'New_Column_Name'\n",
    "df_order_modified = df_order.rename(columns={'index': 'laptop_Id'})\n",
    "df_order_modified"
   ],
   "metadata": {
    "collapsed": false,
    "ExecuteTime": {
     "end_time": "2023-10-18T09:07:38.342319900Z",
     "start_time": "2023-10-18T09:07:38.266045300Z"
    },
    "pycharm": {
     "name": "#%%\n"
    }
   },
   "id": "946a5eee63d86f8c"
  },
  {
   "cell_type": "code",
   "execution_count": 56,
   "outputs": [
    {
     "name": "stderr",
     "output_type": "stream",
     "text": [
      "C:\\Users\\parham\\AppData\\Local\\Temp\\ipykernel_34368\\464320306.py:1: UserWarning: Could not infer format, so each element will be parsed individually, falling back to `dateutil`. To ensure parsing is consistent and as-expected, please specify a format.\n",
      "  df_order_modified['Order_Date'] = pd.to_datetime(df_order_modified['Order_Date'])\n"
     ]
    },
    {
     "ename": "OutOfBoundsDatetime",
     "evalue": "Out of bounds nanosecond timestamp: 1396-10-26, at position 0",
     "output_type": "error",
     "traceback": [
      "\u001B[1;31m---------------------------------------------------------------------------\u001B[0m",
      "\u001B[1;31mOverflowError\u001B[0m                             Traceback (most recent call last)",
      "File \u001B[1;32m~\\.conda\\envs\\quera_bootcamp\\Lib\\site-packages\\pandas\\_libs\\tslibs\\conversion.pyx:245\u001B[0m, in \u001B[0;36mpandas._libs.tslibs.conversion._TSObject.ensure_reso\u001B[1;34m()\u001B[0m\n",
      "File \u001B[1;32m~\\.conda\\envs\\quera_bootcamp\\Lib\\site-packages\\pandas\\_libs\\tslibs\\np_datetime.pyx:614\u001B[0m, in \u001B[0;36mpandas._libs.tslibs.np_datetime.convert_reso\u001B[1;34m()\u001B[0m\n",
      "\u001B[1;31mOverflowError\u001B[0m: value too large",
      "\nThe above exception was the direct cause of the following exception:\n",
      "\u001B[1;31mOutOfBoundsDatetime\u001B[0m                       Traceback (most recent call last)",
      "Cell \u001B[1;32mIn[56], line 1\u001B[0m\n\u001B[1;32m----> 1\u001B[0m df_order_modified[\u001B[38;5;124m'\u001B[39m\u001B[38;5;124mOrder_Date\u001B[39m\u001B[38;5;124m'\u001B[39m] \u001B[38;5;241m=\u001B[39m pd\u001B[38;5;241m.\u001B[39mto_datetime(df_order_modified[\u001B[38;5;124m'\u001B[39m\u001B[38;5;124mOrder_Date\u001B[39m\u001B[38;5;124m'\u001B[39m])\n\u001B[0;32m      2\u001B[0m df_order_modified\u001B[38;5;241m.\u001B[39mdtypes\n",
      "File \u001B[1;32m~\\.conda\\envs\\quera_bootcamp\\Lib\\site-packages\\pandas\\core\\tools\\datetimes.py:1050\u001B[0m, in \u001B[0;36mto_datetime\u001B[1;34m(arg, errors, dayfirst, yearfirst, utc, format, exact, unit, infer_datetime_format, origin, cache)\u001B[0m\n\u001B[0;32m   1048\u001B[0m         result \u001B[38;5;241m=\u001B[39m arg\u001B[38;5;241m.\u001B[39mmap(cache_array)\n\u001B[0;32m   1049\u001B[0m     \u001B[38;5;28;01melse\u001B[39;00m:\n\u001B[1;32m-> 1050\u001B[0m         values \u001B[38;5;241m=\u001B[39m convert_listlike(arg\u001B[38;5;241m.\u001B[39m_values, \u001B[38;5;28mformat\u001B[39m)\n\u001B[0;32m   1051\u001B[0m         result \u001B[38;5;241m=\u001B[39m arg\u001B[38;5;241m.\u001B[39m_constructor(values, index\u001B[38;5;241m=\u001B[39marg\u001B[38;5;241m.\u001B[39mindex, name\u001B[38;5;241m=\u001B[39marg\u001B[38;5;241m.\u001B[39mname)\n\u001B[0;32m   1052\u001B[0m \u001B[38;5;28;01melif\u001B[39;00m \u001B[38;5;28misinstance\u001B[39m(arg, (ABCDataFrame, abc\u001B[38;5;241m.\u001B[39mMutableMapping)):\n",
      "File \u001B[1;32m~\\.conda\\envs\\quera_bootcamp\\Lib\\site-packages\\pandas\\core\\tools\\datetimes.py:455\u001B[0m, in \u001B[0;36m_convert_listlike_datetimes\u001B[1;34m(arg, format, name, utc, unit, errors, dayfirst, yearfirst, exact)\u001B[0m\n\u001B[0;32m    452\u001B[0m \u001B[38;5;28;01mif\u001B[39;00m \u001B[38;5;28mformat\u001B[39m \u001B[38;5;129;01mis\u001B[39;00m \u001B[38;5;129;01mnot\u001B[39;00m \u001B[38;5;28;01mNone\u001B[39;00m \u001B[38;5;129;01mand\u001B[39;00m \u001B[38;5;28mformat\u001B[39m \u001B[38;5;241m!=\u001B[39m \u001B[38;5;124m\"\u001B[39m\u001B[38;5;124mmixed\u001B[39m\u001B[38;5;124m\"\u001B[39m:\n\u001B[0;32m    453\u001B[0m     \u001B[38;5;28;01mreturn\u001B[39;00m _array_strptime_with_fallback(arg, name, utc, \u001B[38;5;28mformat\u001B[39m, exact, errors)\n\u001B[1;32m--> 455\u001B[0m result, tz_parsed \u001B[38;5;241m=\u001B[39m objects_to_datetime64ns(\n\u001B[0;32m    456\u001B[0m     arg,\n\u001B[0;32m    457\u001B[0m     dayfirst\u001B[38;5;241m=\u001B[39mdayfirst,\n\u001B[0;32m    458\u001B[0m     yearfirst\u001B[38;5;241m=\u001B[39myearfirst,\n\u001B[0;32m    459\u001B[0m     utc\u001B[38;5;241m=\u001B[39mutc,\n\u001B[0;32m    460\u001B[0m     errors\u001B[38;5;241m=\u001B[39merrors,\n\u001B[0;32m    461\u001B[0m     allow_object\u001B[38;5;241m=\u001B[39m\u001B[38;5;28;01mTrue\u001B[39;00m,\n\u001B[0;32m    462\u001B[0m )\n\u001B[0;32m    464\u001B[0m \u001B[38;5;28;01mif\u001B[39;00m tz_parsed \u001B[38;5;129;01mis\u001B[39;00m \u001B[38;5;129;01mnot\u001B[39;00m \u001B[38;5;28;01mNone\u001B[39;00m:\n\u001B[0;32m    465\u001B[0m     \u001B[38;5;66;03m# We can take a shortcut since the datetime64 numpy array\u001B[39;00m\n\u001B[0;32m    466\u001B[0m     \u001B[38;5;66;03m# is in UTC\u001B[39;00m\n\u001B[0;32m    467\u001B[0m     dta \u001B[38;5;241m=\u001B[39m DatetimeArray(result, dtype\u001B[38;5;241m=\u001B[39mtz_to_dtype(tz_parsed))\n",
      "File \u001B[1;32m~\\.conda\\envs\\quera_bootcamp\\Lib\\site-packages\\pandas\\core\\arrays\\datetimes.py:2177\u001B[0m, in \u001B[0;36mobjects_to_datetime64ns\u001B[1;34m(data, dayfirst, yearfirst, utc, errors, allow_object)\u001B[0m\n\u001B[0;32m   2174\u001B[0m \u001B[38;5;66;03m# if str-dtype, convert\u001B[39;00m\n\u001B[0;32m   2175\u001B[0m data \u001B[38;5;241m=\u001B[39m np\u001B[38;5;241m.\u001B[39marray(data, copy\u001B[38;5;241m=\u001B[39m\u001B[38;5;28;01mFalse\u001B[39;00m, dtype\u001B[38;5;241m=\u001B[39mnp\u001B[38;5;241m.\u001B[39mobject_)\n\u001B[1;32m-> 2177\u001B[0m result, tz_parsed \u001B[38;5;241m=\u001B[39m tslib\u001B[38;5;241m.\u001B[39marray_to_datetime(\n\u001B[0;32m   2178\u001B[0m     data,\n\u001B[0;32m   2179\u001B[0m     errors\u001B[38;5;241m=\u001B[39merrors,\n\u001B[0;32m   2180\u001B[0m     utc\u001B[38;5;241m=\u001B[39mutc,\n\u001B[0;32m   2181\u001B[0m     dayfirst\u001B[38;5;241m=\u001B[39mdayfirst,\n\u001B[0;32m   2182\u001B[0m     yearfirst\u001B[38;5;241m=\u001B[39myearfirst,\n\u001B[0;32m   2183\u001B[0m )\n\u001B[0;32m   2185\u001B[0m \u001B[38;5;28;01mif\u001B[39;00m tz_parsed \u001B[38;5;129;01mis\u001B[39;00m \u001B[38;5;129;01mnot\u001B[39;00m \u001B[38;5;28;01mNone\u001B[39;00m:\n\u001B[0;32m   2186\u001B[0m     \u001B[38;5;66;03m# We can take a shortcut since the datetime64 numpy array\u001B[39;00m\n\u001B[0;32m   2187\u001B[0m     \u001B[38;5;66;03m#  is in UTC\u001B[39;00m\n\u001B[0;32m   2188\u001B[0m     \u001B[38;5;66;03m# Return i8 values to denote unix timestamps\u001B[39;00m\n\u001B[0;32m   2189\u001B[0m     \u001B[38;5;28;01mreturn\u001B[39;00m result\u001B[38;5;241m.\u001B[39mview(\u001B[38;5;124m\"\u001B[39m\u001B[38;5;124mi8\u001B[39m\u001B[38;5;124m\"\u001B[39m), tz_parsed\n",
      "File \u001B[1;32m~\\.conda\\envs\\quera_bootcamp\\Lib\\site-packages\\pandas\\_libs\\tslib.pyx:402\u001B[0m, in \u001B[0;36mpandas._libs.tslib.array_to_datetime\u001B[1;34m()\u001B[0m\n",
      "File \u001B[1;32m~\\.conda\\envs\\quera_bootcamp\\Lib\\site-packages\\pandas\\_libs\\tslib.pyx:551\u001B[0m, in \u001B[0;36mpandas._libs.tslib.array_to_datetime\u001B[1;34m()\u001B[0m\n",
      "File \u001B[1;32m~\\.conda\\envs\\quera_bootcamp\\Lib\\site-packages\\pandas\\_libs\\tslib.pyx:519\u001B[0m, in \u001B[0;36mpandas._libs.tslib.array_to_datetime\u001B[1;34m()\u001B[0m\n",
      "File \u001B[1;32m~\\.conda\\envs\\quera_bootcamp\\Lib\\site-packages\\pandas\\_libs\\tslibs\\conversion.pyx:248\u001B[0m, in \u001B[0;36mpandas._libs.tslibs.conversion._TSObject.ensure_reso\u001B[1;34m()\u001B[0m\n",
      "\u001B[1;31mOutOfBoundsDatetime\u001B[0m: Out of bounds nanosecond timestamp: 1396-10-26, at position 0"
     ]
    }
   ],
   "source": [
    "df_order_modified['Order_Date'] = pd.to_datetime(df_order_modified['Order_Date'])\n",
    "df_order_modified.dtypes"
   ],
   "metadata": {
    "collapsed": false,
    "ExecuteTime": {
     "end_time": "2023-10-18T09:14:26.224560600Z",
     "start_time": "2023-10-18T09:14:21.493228400Z"
    },
    "pycharm": {
     "name": "#%%\n"
    }
   },
   "id": "e2ccf4f0a7821a8f"
  },
  {
   "cell_type": "code",
   "execution_count": 60,
   "outputs": [
    {
     "name": "stdout",
     "output_type": "stream",
     "text": [
      "2023-10-18 12:47:59,405 INFO sqlalchemy.engine.Engine BEGIN (implicit)\n",
      "2023-10-18 12:47:59,437 INFO sqlalchemy.engine.Engine SELECT COUNT(*) FROM information_schema.tables WHERE table_schema = %(table_schema)s AND table_name = %(table_name)s\n",
      "2023-10-18 12:47:59,438 INFO sqlalchemy.engine.Engine [cached since 660.1s ago] {'table_schema': 'laptop_analysis_and_warehousing_g3', 'table_name': 'order'}\n",
      "2023-10-18 12:48:08,257 INFO sqlalchemy.engine.Engine INSERT INTO `order` (`Order_ID`, `Branch`, `laptop_Id`, `Order_Date`, `Order_Priority`, `Price`, `Quantity`, `Discount`, `Total_Price`, `Profit`, `Ship_Duration`) VALUES (%(Order_ID)s, %(Branch)s, %(laptop_Id)s, %(Order_Date)s, %(Order_Priority)s, %(Price)s, %(Quantity)s, %(Discount)s, %(Total_Price)s, %(Profit)s, %(Ship_Duration)s)\n",
      "2023-10-18 12:48:08,258 INFO sqlalchemy.engine.Engine [generated in 7.55081s] ({'Order_ID': 0, 'Branch': 'Hamedan', 'laptop_Id': 0, 'Order_Date': '1396-10-26', 'Order_Priority': 'H', 'Price': 3450000, 'Quantity': 1, 'Discount': 0, 'Total_Price': 3450000.0, 'Profit': 250000, 'Ship_Duration': 3}, {'Order_ID': 20, 'Branch': 'Mashhad', 'laptop_Id': 0, 'Order_Date': '1391-01-20', 'Order_Priority': 'M', 'Price': 1100000, 'Quantity': 1, 'Discount': 0, 'Total_Price': 1100000.0, 'Profit': 100000, 'Ship_Duration': 5}, {'Order_ID': 72, 'Branch': 'Yazd', 'laptop_Id': 0, 'Order_Date': '1401-02-09', 'Order_Priority': 'L', 'Price': 16400000, 'Quantity': 1, 'Discount': 5, 'Total_Price': 15580000.0, 'Profit': 1920000, 'Ship_Duration': 10}, {'Order_ID': 204, 'Branch': 'Tabriz', 'laptop_Id': 0, 'Order_Date': '1400-05-25', 'Order_Priority': 'H', 'Price': 20150000, 'Quantity': 1, 'Discount': 0, 'Total_Price': 20150000.0, 'Profit': 2170000, 'Ship_Duration': 3}, {'Order_ID': 297, 'Branch': 'Isfahan', 'laptop_Id': 0, 'Order_Date': '1397-02-30', 'Order_Priority': 'M', 'Price': 4250000, 'Quantity': 1, 'Discount': 0, 'Total_Price': 4250000.0, 'Profit': 430000, 'Ship_Duration': 6}, {'Order_ID': 422, 'Branch': 'Tehran', 'laptop_Id': 0, 'Order_Date': '1392-08-26', 'Order_Priority': 'L', 'Price': 2400000, 'Quantity': 1, 'Discount': 0, 'Total_Price': 2400000.0, 'Profit': 260000, 'Ship_Duration': 7}, {'Order_ID': 603, 'Branch': 'Ahvaz', 'laptop_Id': 0, 'Order_Date': '1399-06-04', 'Order_Priority': 'H', 'Price': 17700000, 'Quantity': 1, 'Discount': 0, 'Total_Price': 17700000.0, 'Profit': 1740000, 'Ship_Duration': 3}, {'Order_ID': 647, 'Branch': 'Mashhad', 'laptop_Id': 0, 'Order_Date': '1396-05-09', 'Order_Priority': 'M', 'Price': 2650000, 'Quantity': 2, 'Discount': 0, 'Total_Price': 5300000.0, 'Profit': 450000, 'Ship_Duration': 5}  ... displaying 10 of 1017081 total bound parameter sets ...  {'Order_ID': 1006977, 'Branch': 'Mashhad', 'laptop_Id': 42351, 'Order_Date': '1401-05-27', 'Order_Priority': 'M', 'Price': 8950000, 'Quantity': 1, 'Discount': 0, 'Total_Price': 8950000.0, 'Profit': 1140000, 'Ship_Duration': 6}, {'Order_ID': 1015533, 'Branch': 'Kish', 'laptop_Id': 42351, 'Order_Date': '1401-06-20', 'Order_Priority': 'L', 'Price': 10600000, 'Quantity': 1, 'Discount': 0, 'Total_Price': 10600000.0, 'Profit': 980000, 'Ship_Duration': 10})\n",
      "2023-10-18 12:48:34,683 INFO sqlalchemy.engine.Engine COMMIT\n"
     ]
    }
   ],
   "source": [
    "# Create a session to insert data into the tables\n",
    "Session = sessionmaker(bind=engine)\n",
    "session = Session()\n",
    "\n",
    "\n",
    "# Insert data from the DataFrame into publisher table\n",
    "df_order_modified[['Order_ID', 'Branch', 'laptop_Id', 'Order_Date', 'Order_Priority', 'Price', 'Quantity', 'Discount',\n",
    "          'Total_Price', 'Profit', 'Ship_Duration']].to_sql('order', con=engine, if_exists='append', index=False)\n",
    "\n",
    "# Commit changes and close the session\n",
    "session.commit()\n",
    "session.close()"
   ],
   "metadata": {
    "collapsed": false,
    "ExecuteTime": {
     "end_time": "2023-10-18T09:18:34.825333600Z",
     "start_time": "2023-10-18T09:17:59.407596500Z"
    },
    "pycharm": {
     "name": "#%%\n"
    }
   },
   "id": "7f1d1648bb00542"
  },
  {
   "cell_type": "markdown",
   "source": [
    "# read and clean scrape files"
   ],
   "metadata": {
    "collapsed": false,
    "pycharm": {
     "name": "#%% md\n"
    }
   },
   "id": "56fa7063d14c7f45"
  },
  {
   "cell_type": "code",
   "execution_count": 58,
   "outputs": [
    {
     "name": "stdout",
     "output_type": "stream",
     "text": [
      "2023-10-29 04:15:29,996 INFO sqlalchemy.engine.Engine SELECT DATABASE()\n",
      "2023-10-29 04:15:29,997 INFO sqlalchemy.engine.Engine [raw sql] {}\n",
      "2023-10-29 04:15:29,999 INFO sqlalchemy.engine.Engine SELECT @@sql_mode\n",
      "2023-10-29 04:15:29,999 INFO sqlalchemy.engine.Engine [raw sql] {}\n",
      "2023-10-29 04:15:30,000 INFO sqlalchemy.engine.Engine SELECT @@lower_case_table_names\n",
      "2023-10-29 04:15:30,001 INFO sqlalchemy.engine.Engine [raw sql] {}\n"
     ]
    }
   ],
   "source": [
    "# Initialize SQLAlchemy Metadata object\n",
    "meta = MetaData()\n",
    "# Define database connection details\n",
    "USERNAME = 'root'\n",
    "PASSWORD = 'Af828-922'\n",
    "SERVER = 'localhost'\n",
    "# Create a SQLAlchemy engine for connecting to the MySQL database\n",
    "engine = create_engine(f'mysql+pymysql://{USERNAME}:{PASSWORD}@{SERVER}:3306/laptop_analysis_scraping', echo=True)\n",
    "conn = engine.connect()"
   ],
   "metadata": {
    "collapsed": false,
    "pycharm": {
     "name": "#%%\n"
    }
   }
  },
  {
   "cell_type": "code",
   "execution_count": 59,
   "outputs": [],
   "source": [
    "# Create a base class for declarative models\n",
    "Base = declarative_base()"
   ],
   "metadata": {
    "collapsed": false,
    "pycharm": {
     "name": "#%%\n"
    }
   }
  },
  {
   "cell_type": "code",
   "execution_count": 60,
   "outputs": [
    {
     "name": "stdout",
     "output_type": "stream",
     "text": [
      "2023-10-29 04:15:49,333 INFO sqlalchemy.engine.Engine BEGIN (implicit)\n",
      "2023-10-29 04:15:49,333 INFO sqlalchemy.engine.Engine COMMIT\n"
     ]
    }
   ],
   "source": [
    "# Create tables in the database based on the defined model classes\n",
    "Base.metadata.create_all(engine)"
   ],
   "metadata": {
    "collapsed": false,
    "pycharm": {
     "name": "#%%\n"
    }
   }
  },
  {
   "cell_type": "code",
   "execution_count": 138,
   "outputs": [
    {
     "name": "stdout",
     "output_type": "stream",
     "text": [
      "2023-10-29 05:30:21,589 INFO sqlalchemy.engine.Engine SELECT COUNT(*) FROM information_schema.tables WHERE table_schema = %(table_schema)s AND table_name = %(table_name)s\n",
      "2023-10-29 05:30:21,589 INFO sqlalchemy.engine.Engine [cached since 4392s ago] {'table_schema': 'laptop_analysis_scraping', 'table_name': 'dollar'}\n",
      "2023-10-29 05:30:21,595 INFO sqlalchemy.engine.Engine BEGIN (implicit)\n",
      "2023-10-29 05:30:21,615 INFO sqlalchemy.engine.Engine INSERT INTO dollar (open, low, high, close, jdate, gdate) VALUES (%(open)s, %(low)s, %(high)s, %(close)s, %(jdate)s, %(gdate)s)\n",
      "2023-10-29 05:30:21,616 INFO sqlalchemy.engine.Engine [generated in 0.01620s] ({'open': 511350, 'low': 510680, 'high': 515900, 'close': 515340, 'jdate': '1402/08/04', 'gdate': datetime.datetime(2023, 10, 26, 0, 0)}, {'open': 508340, 'low': 508150, 'high': 511400, 'close': 511000, 'jdate': '1402/08/03', 'gdate': datetime.datetime(2023, 10, 25, 0, 0)}, {'open': 510820, 'low': 505150, 'high': 510900, 'close': 506770, 'jdate': '1402/08/02', 'gdate': datetime.datetime(2023, 10, 24, 0, 0)}, {'open': 507150, 'low': 505450, 'high': 507200, 'close': 505490, 'jdate': '1402/08/01', 'gdate': datetime.datetime(2023, 10, 23, 0, 0)}, {'open': 499950, 'low': 498250, 'high': 505900, 'close': 505800, 'jdate': '1402/07/29', 'gdate': datetime.datetime(2023, 10, 21, 0, 0)}, {'open': 506070, 'low': 501050, 'high': 506300, 'close': 501100, 'jdate': '1402/07/28', 'gdate': datetime.datetime(2023, 10, 20, 0, 0)}, {'open': 510100, 'low': 509950, 'high': 512450, 'close': 510880, 'jdate': '1402/07/26', 'gdate': datetime.datetime(2023, 10, 18, 0, 0)}, {'open': 513830, 'low': 508450, 'high': 514000, 'close': 509600, 'jdate': '1402/07/25', 'gdate': datetime.datetime(2023, 10, 17, 0, 0)}  ... displaying 10 of 3683 total bound parameter sets ...  {'open': 13440, 'low': 13440, 'high': 13440, 'close': 13440, 'jdate': '1390/09/06', 'gdate': datetime.datetime(2011, 11, 27, 0, 0)}, {'open': 13700, 'low': 13700, 'high': 13700, 'close': 13700, 'jdate': '1390/09/05', 'gdate': datetime.datetime(2011, 11, 26, 0, 0)})\n",
      "2023-10-29 05:30:21,728 INFO sqlalchemy.engine.Engine COMMIT\n"
     ]
    }
   ],
   "source": [
    "# Create a session to insert data into the tables\n",
    "Session = sessionmaker(bind=engine)\n",
    "session = Session()\n",
    "\n",
    "# Insert data from the DataFrame into publisher table\n",
    "df_dollar_c.to_sql('dollar', con=engine, if_exists='append', index=False)\n",
    "\n",
    "# Commit changes and close the session\n",
    "session.commit()\n",
    "session.close()"
   ],
   "metadata": {
    "collapsed": false,
    "pycharm": {
     "name": "#%%\n"
    }
   }
  },
  {
   "cell_type": "code",
   "execution_count": 139,
   "outputs": [
    {
     "name": "stdout",
     "output_type": "stream",
     "text": [
      "2023-10-29 05:30:22,303 INFO sqlalchemy.engine.Engine SELECT COUNT(*) FROM information_schema.tables WHERE table_schema = %(table_schema)s AND table_name = %(table_name)s\n",
      "2023-10-29 05:30:22,304 INFO sqlalchemy.engine.Engine [cached since 4393s ago] {'table_schema': 'laptop_analysis_scraping', 'table_name': 'product'}\n",
      "2023-10-29 05:30:22,308 INFO sqlalchemy.engine.Engine BEGIN (implicit)\n",
      "2023-10-29 05:30:22,317 INFO sqlalchemy.engine.Engine INSERT INTO product (`ID`, `Title`, `Manufacturer`, `StockSatus`, `Site`) VALUES (%(ID)s, %(Title)s, %(Manufacturer)s, %(StockSatus)s, %(Site)s)\n",
      "2023-10-29 05:30:22,318 INFO sqlalchemy.engine.Engine [generated in 0.00754s] ({'ID': 'e67aed83-4354-4c41-9e07-d55f922f172d', 'Title': 'lenovo thinkpad yoga11e', 'Manufacturer': 'lenovo', 'StockSatus': 'new', 'Site': 'torob'}, {'ID': '09987667-ab86-4a48-803b-a676727d984c', 'Title': 'lenovo thinkpad x1 carbon i7 8g 256gssd intel', 'Manufacturer': 'lenovo', 'StockSatus': 'new', 'Site': 'torob'}, {'ID': 'f0162cbd-523b-45ea-9788-ed371d430dd5', 'Title': 'ideapad3 12gb ram 512gb ssd 1tb hdd i3 lenovo ideapad 3', 'Manufacturer': 'lenovo', 'StockSatus': 'new', 'Site': 'torob'}, {'ID': 'd7555bb9-81d5-40d2-bdb1-8bce98b15138', 'Title': 'rog strix g513rc 16gb ram 1tb ssd ryzen 7 6800h vga 3050 4gb asus rog strix g513rc', 'Manufacturer': 'asus', 'StockSatus': 'new', 'Site': 'torob'}, {'ID': '1bc99e75-8448-4c20-b42a-fae1e065b632', 'Title': 'thinkbook 15 12gb ram 1tb hdd 512gb ssd i3 lenovo thinkbook 15 fx', 'Manufacturer': 'lenovo', 'StockSatus': 'new', 'Site': 'torob'}, {'ID': 'e27c4058-831a-405d-95a4-cb8f76b747f7', 'Title': 'x543ma 4gb ram 1tb hdd n4020 asus vivobook max x543ma', 'Manufacturer': 'asus', 'StockSatus': 'new', 'Site': 'torob'}, {'ID': '7c24e65f-021b-41fb-8d38-dc7088745735', 'Title': 'x515ep 8gb ram 512gb ssd i5 1135g7 vga mx330 2gb asus laptop x515ep', 'Manufacturer': 'asus', 'StockSatus': 'new', 'Site': 'torob'}, {'ID': '39f6b943-58d9-4567-965c-af5fe87116e7', 'Title': 'hp elite x2 i5 1012 g2 hp pro x2 1012 g2 core i5 8gb 256gb intel touch laptop', 'Manufacturer': 'hp', 'StockSatus': 'not new', 'Site': 'torob'}  ... displaying 10 of 1889 total bound parameter sets ...  {'ID': '12922963', 'Title': 'lenovo loq 15irh8-i7 16gb 512ssd rtx4060 15.6 inch laptop', 'Manufacturer': 'lenovo', 'StockSatus': 'new', 'Site': 'digi'}, {'ID': '12953013', 'Title': 'lenovo ideapad gaming 3 15ihu6-i7 32gb 1ssd gtx1650 15.6 inch laptop - customized', 'Manufacturer': 'lenovo', 'StockSatus': 'new', 'Site': 'digi'})\n",
      "2023-10-29 05:30:22,398 INFO sqlalchemy.engine.Engine COMMIT\n"
     ]
    }
   ],
   "source": [
    "# Create a session to insert data into the tables\n",
    "Session = sessionmaker(bind=engine)\n",
    "session = Session()\n",
    "\n",
    "# Insert data from the DataFrame into publisher table\n",
    "df_product.to_sql('product', con=engine, if_exists='append', index=False)\n",
    "\n",
    "# Commit changes and close the session\n",
    "session.commit()\n",
    "session.close()"
   ],
   "metadata": {
    "collapsed": false,
    "pycharm": {
     "name": "#%%\n"
    }
   }
  },
  {
   "cell_type": "code",
   "execution_count": 140,
   "outputs": [
    {
     "name": "stdout",
     "output_type": "stream",
     "text": [
      "2023-10-29 05:30:23,146 INFO sqlalchemy.engine.Engine SELECT COUNT(*) FROM information_schema.tables WHERE table_schema = %(table_schema)s AND table_name = %(table_name)s\n",
      "2023-10-29 05:30:23,147 INFO sqlalchemy.engine.Engine [cached since 4394s ago] {'table_schema': 'laptop_analysis_scraping', 'table_name': 'pricechart'}\n",
      "2023-10-29 05:30:23,157 INFO sqlalchemy.engine.Engine BEGIN (implicit)\n",
      "2023-10-29 05:30:23,656 INFO sqlalchemy.engine.Engine INSERT INTO pricechart (product_id, average_price, min_price, date) VALUES (%(product_id)s, %(average_price)s, %(min_price)s, %(date)s)\n",
      "2023-10-29 05:30:23,657 INFO sqlalchemy.engine.Engine [generated in 0.46147s] ({'product_id': '1bc99e75-8448-4c20-b42a-fae1e065b632', 'average_price': 15350000, 'min_price': 14200000, 'date': '2021-07-06'}, {'product_id': '1bc99e75-8448-4c20-b42a-fae1e065b632', 'average_price': 16140000, 'min_price': 15400000, 'date': '2021-08-10'}, {'product_id': '1bc99e75-8448-4c20-b42a-fae1e065b632', 'average_price': 16700000, 'min_price': 16700000, 'date': '2021-09-03'}, {'product_id': '1bc99e75-8448-4c20-b42a-fae1e065b632', 'average_price': 16350000, 'min_price': 15500000, 'date': '2021-10-03'}, {'product_id': '1bc99e75-8448-4c20-b42a-fae1e065b632', 'average_price': 18900000, 'min_price': 18800000, 'date': '2021-11-08'}, {'product_id': '1bc99e75-8448-4c20-b42a-fae1e065b632', 'average_price': 17733333, 'min_price': 17000000, 'date': '2021-11-26'}, {'product_id': '1bc99e75-8448-4c20-b42a-fae1e065b632', 'average_price': 17672500, 'min_price': 17000000, 'date': '2021-12-22'}, {'product_id': '1bc99e75-8448-4c20-b42a-fae1e065b632', 'average_price': 18107800, 'min_price': 16000000, 'date': '2022-01-08'}  ... displaying 10 of 54037 total bound parameter sets ...  {'product_id': '89822372-c6aa-4b39-901d-f1914bb48362', 'average_price': 62265000, 'min_price': 61030000, 'date': '2023-08-10'}, {'product_id': '89822372-c6aa-4b39-901d-f1914bb48362', 'average_price': 57020000, 'min_price': 57020000, 'date': '2023-09-24'})\n",
      "2023-10-29 05:30:24,863 INFO sqlalchemy.engine.Engine COMMIT\n"
     ]
    }
   ],
   "source": [
    "# Create a session to insert data into the tables\n",
    "Session = sessionmaker(bind=engine)\n",
    "session = Session()\n",
    "\n",
    "# Insert data from the DataFrame into publisher table\n",
    "df_price_chart.to_sql('pricechart', con=engine, if_exists='append', index=False)\n",
    "\n",
    "# Commit changes and close the session\n",
    "session.commit()\n",
    "session.close()"
   ],
   "metadata": {
    "collapsed": false,
    "pycharm": {
     "name": "#%%\n"
    }
   }
  },
  {
   "cell_type": "code",
   "execution_count": 141,
   "outputs": [
    {
     "name": "stdout",
     "output_type": "stream",
     "text": [
      "2023-10-29 05:30:24,900 INFO sqlalchemy.engine.Engine SELECT COUNT(*) FROM information_schema.tables WHERE table_schema = %(table_schema)s AND table_name = %(table_name)s\n",
      "2023-10-29 05:30:24,901 INFO sqlalchemy.engine.Engine [cached since 4396s ago] {'table_schema': 'laptop_analysis_scraping', 'table_name': 'product_attributes'}\n",
      "2023-10-29 05:30:24,904 INFO sqlalchemy.engine.Engine BEGIN (implicit)\n",
      "2023-10-29 05:30:24,911 INFO sqlalchemy.engine.Engine INSERT INTO product_attributes (`ID`, `Attributes`) VALUES (%(ID)s, %(Attributes)s)\n",
      "2023-10-29 05:30:24,912 INFO sqlalchemy.engine.Engine [generated in 0.00536s] ({'ID': 'e67aed83-4354-4c41-9e07-d55f922f172d', 'Attributes': None}, {'ID': '09987667-ab86-4a48-803b-a676727d984c', 'Attributes': '{\\'سازنده پردازنده\\': \\'Intel® Core™ i7-4600U Processor ,4M Cache\\', \\'فرکانس پردازنده\\': \\'2.1GHZ~3.3GHz\\', \\'ظرفیت حافظه RAM\\': \\'8.0 گیگابایت از ن ... (1775 characters truncated) ... ', \\'رم لپ تاپ\\': \\'Samsung DDR3 4.0 GB\\', \\'حجم حافظه\\': \\'4 گیگابایت\\', \\'تعداد\\': \\'1 عدد\\', \\'تعداد کانال\\': \\'1\\', \\'ولتاژ\\': \\'1.5 - 1.8 ولت\\'}'}, {'ID': 'f0162cbd-523b-45ea-9788-ed371d430dd5', 'Attributes': \"{'برند': 'LENOVO', 'ابعاد': '362.2×253.4×19.9 میلی\\\\u200cمتر', 'وزن': '1.75 کیلوگرم', 'کشور سازنده': 'چین', 'طبقه بندی': 'عمومی, مالتی مدیا', 'سازنده ... (1471 characters truncated) ... تیوم-پلیمر با ظرفیت 35 وات\\\\u200cساعت', 'سیستم عامل': 'فاقد سیستم عامل', 'نسخه سیستم عامل': 'DOS', 'اقلام همراه': 'شارژر – کابل برق – دفترچه راهنما'}\"}, {'ID': 'd7555bb9-81d5-40d2-bdb1-8bce98b15138', 'Attributes': \"{'کاربری': 'تدوین, طراحی, گیمینگ', 'کشور برند': 'تایوان', 'ابعاد (میلیمتر)': '354x259x25.9', 'وزن (کیلوگرم)': '2.1', 'جنس بدنه': 'فلز، پلاستیک', 'شرک ... (1183 characters truncated) ...  'RGB backlit', 'تعداد اسپیکر': '2 عدد', 'نوع اسپیکر': 'Dolby Atmos', 'تعداد فن': '2', 'محتویات جعبه': 'دفترچه راهنما, شارژر, کابل شارژر, کیف, ماوس'}\"}, {'ID': '1bc99e75-8448-4c20-b42a-fae1e065b632', 'Attributes': \"{'برند': 'Lenovo', 'ابعاد': '18.9 × 235 × 357 میلی متر', 'وزن': '1.7 کیلوگرم', 'رنگ': 'خاکستری', 'سازنده پردازنده': 'Intel', 'سری پردازنده': 'Core i3 ... (1357 characters truncated) ... یکر': 'بلندگوهای استریو داخلی', 'کیبورد با نور پس زمینه': 'ندارد', 'سیستم عامل': 'ندارد', 'لوازم همراه دستگاه': 'دفترچه راهنما ، شارژر ، کابل شارژر'}\"}, {'ID': 'e27c4058-831a-405d-95a4-cb8f76b747f7', 'Attributes': '{\\'وزن (کیلوگرم)\\': \\'1.9\\', \\'ابعاد (میلی متر)\\': \\'27.2×251×381\\', \\'سری پردازنده\\': \\'Celeron\\', \\'مدل پردازنده\\': \\'N4020\\', \\'فرکانس پردازنده\\': ... (1565 characters truncated) ... (L)\\': \\'کاربری عمومی ، کاربری مالتی\\\\u200cمدیا\\', \\'کانفیگ اصلی\\': \\'دارد\\', \\'سازنده پردازنده گرافیکی\\': \\'intel\\', \\'سازنده پردازنده\\': \\'intel\\'}'}, {'ID': '7c24e65f-021b-41fb-8d38-dc7088745735', 'Attributes': \"{'نوع کالا': 'لپ تاپ', 'رنگ بندی': 'خاکستری (Slate Grey) | نقره\\\\u200cای (Transparent Silver) | آبی (Peacock Blue)', 'سیستم عامل': 'ندارد', 'ویژگی\\\\u ... (1984 characters truncated) ... رفیت باتری': '37 وات\\\\u200c ساعت', 'میزان شارژدهی': '2 الی 4 ساعت', 'حسگرها': 'حسگر اثر انگشت (Fingerprint)', 'اقلام همراه': 'دفترچه راهنما | شارژر'}\"}, {'ID': '39f6b943-58d9-4567-965c-af5fe87116e7', 'Attributes': \"{'رنگ': 'نقره ایی', '2 سازنده': 'اچ پی', '1وزن': '1.6 کیلوگرم', 'bابعاد': '9x300x219 میلی متر', 'نوع دستگاه': 'لپ تاپ', 'جنس بدنه': 'پلاستیک', 'سازند ... (1317 characters truncated) ... ارد', 'پورت Thunderbolt': 'ندارد', 'پورت FireWire 800': 'ندارد', 'جک 3.5 میلیمتری صدا': 'دارد', 'کارت خوان': 'ندارد', 'اقلام همراه': 'آداپتور شارژر'}\"}  ... displaying 10 of 1889 total bound parameter sets ...  {'ID': '12922963', 'Attributes': \"[{'title': 'وزن', 'values': ['2.4 کیلوگرم']}, {'title': 'ابعاد', 'values': ['359.6x264.8x22.1 میلی\\\\u200cمتر ']}, {'title': 'سازنده پردازنده', 'value ... (3045 characters truncated) ... 'امکانات دیگر', 'values': ['بلوتوث 5.1 /  کیبورد با نور پس زمینه سفید ']}, {'title': 'اقلام همراه', 'values': ['آداپتور 170 واتی / دفترچه راهنما ']}]\"}, {'ID': '12953013', 'Attributes': \"[{'title': 'وزن', 'values': ['2.25 کیلوگرم']}, {'title': 'ابعاد', 'values': ['359x251x24.2 میلی\\\\u200cمتری ']}, {'title': 'سازنده پردازنده', 'values' ... (2632 characters truncated) ...  'values': ['1 تا 3 ساعت']}, {'title': 'سیستم عامل', 'values': ['بدون سیستم عامل ']}, {'title': 'اقلام همراه', 'values': ['شارژر / دفترچه راهنما ']}]\"})\n",
      "2023-10-29 05:30:25,446 INFO sqlalchemy.engine.Engine COMMIT\n"
     ]
    }
   ],
   "source": [
    "# Create a session to insert data into the tables\n",
    "Session = sessionmaker(bind=engine)\n",
    "session = Session()\n",
    "\n",
    "# Insert data from the DataFrame into publisher table\n",
    "df_product_at.to_sql('product_attributes', con=engine, if_exists='append', index=False)\n",
    "\n",
    "# Commit changes and close the session\n",
    "session.commit()\n",
    "session.close()"
   ],
   "metadata": {
    "collapsed": false,
    "pycharm": {
     "name": "#%%\n"
    }
   }
  },
  {
   "cell_type": "code",
   "execution_count": 142,
   "outputs": [
    {
     "name": "stdout",
     "output_type": "stream",
     "text": [
      "2023-10-29 05:30:25,539 INFO sqlalchemy.engine.Engine SELECT COUNT(*) FROM information_schema.tables WHERE table_schema = %(table_schema)s AND table_name = %(table_name)s\n",
      "2023-10-29 05:30:25,540 INFO sqlalchemy.engine.Engine [cached since 4396s ago] {'table_schema': 'laptop_analysis_scraping', 'table_name': 'store'}\n",
      "2023-10-29 05:30:25,543 INFO sqlalchemy.engine.Engine BEGIN (implicit)\n",
      "2023-10-29 05:30:25,547 INFO sqlalchemy.engine.Engine INSERT INTO store (`ID`, `Name`, `City`, `Type`) VALUES (%(ID)s, %(Name)s, %(City)s, %(Type)s)\n",
      "2023-10-29 05:30:25,548 INFO sqlalchemy.engine.Engine [generated in 0.00300s] ({'ID': 0, 'Name': 'تکنولایف', 'City': 'تهران', 'Type': 'خرید اینترنتی'}, {'ID': 1, 'Name': 'افراشاپ', 'City': 'تهران', 'Type': 'خرید اینترنتی'}, {'ID': 2, 'Name': 'بهینه پردازش', 'City': 'تهران', 'Type': 'خرید اینترنتی'}, {'ID': 3, 'Name': 'مقداد آی تی', 'City': 'تهران', 'Type': 'خرید اینترنتی'}, {'ID': 4, 'Name': 'تاپ رایان', 'City': 'تهران', 'Type': 'خرید اینترنتی'}, {'ID': 5, 'Name': 'آداک', 'City': 'تهران', 'Type': 'خرید اینترنتی'}, {'ID': 6, 'Name': 'یاس ارتباط', 'City': 'تهران', 'Type': 'خرید اینترنتی'}, {'ID': 7, 'Name': 'پلازا دیجیتال', 'City': 'تهران', 'Type': 'خرید اینترنتی'}  ... displaying 10 of 712 total bound parameter sets ...  {'ID': 710, 'Name': 'مرکز پخش کنارتو', 'City': 'یزد', 'Type': 'خرید اینترنتی'}, {'ID': 711, 'Name': 'مرکز پخش کنارتو', 'City': 'یزد', 'Type': 'خرید حضوری'})\n",
      "2023-10-29 05:30:25,569 INFO sqlalchemy.engine.Engine COMMIT\n"
     ]
    }
   ],
   "source": [
    "# Create a session to insert data into the tables\n",
    "Session = sessionmaker(bind=engine)\n",
    "session = Session()\n",
    "\n",
    "# Insert data from the DataFrame into publisher table\n",
    "df_stores_c.to_sql('store', con=engine, if_exists='append', index=False)\n",
    "\n",
    "# Commit changes and close the session\n",
    "session.commit()\n",
    "session.close()"
   ],
   "metadata": {
    "collapsed": false,
    "pycharm": {
     "name": "#%%\n"
    }
   }
  },
  {
   "cell_type": "code",
   "execution_count": 143,
   "outputs": [
    {
     "name": "stdout",
     "output_type": "stream",
     "text": [
      "2023-10-29 05:30:25,661 INFO sqlalchemy.engine.Engine SELECT COUNT(*) FROM information_schema.tables WHERE table_schema = %(table_schema)s AND table_name = %(table_name)s\n",
      "2023-10-29 05:30:25,661 INFO sqlalchemy.engine.Engine [cached since 4396s ago] {'table_schema': 'laptop_analysis_scraping', 'table_name': 'product_store'}\n",
      "2023-10-29 05:30:25,673 INFO sqlalchemy.engine.Engine BEGIN (implicit)\n",
      "2023-10-29 05:30:25,723 INFO sqlalchemy.engine.Engine INSERT INTO product_store (`Product_ID`, `Store_ID`, `Date`, `Price`) VALUES (%(Product_ID)s, %(Store_ID)s, %(Date)s, %(Price)s)\n",
      "2023-10-29 05:30:25,724 INFO sqlalchemy.engine.Engine [generated in 0.04134s] ({'Product_ID': 'f0162cbd-523b-45ea-9788-ed371d430dd5', 'Store_ID': 0, 'Date': datetime.datetime(2023, 10, 17, 0, 0), 'Price': '16700000'}, {'Product_ID': 'f0162cbd-523b-45ea-9788-ed371d430dd5', 'Store_ID': 0, 'Date': datetime.datetime(2023, 10, 17, 0, 0), 'Price': '19700000'}, {'Product_ID': 'd7555bb9-81d5-40d2-bdb1-8bce98b15138', 'Store_ID': 0, 'Date': datetime.datetime(2023, 10, 17, 0, 0), 'Price': '51900000'}, {'Product_ID': 'd7555bb9-81d5-40d2-bdb1-8bce98b15138', 'Store_ID': 0, 'Date': datetime.datetime(2023, 10, 17, 0, 0), 'Price': '52950000'}, {'Product_ID': '1bc99e75-8448-4c20-b42a-fae1e065b632', 'Store_ID': 0, 'Date': datetime.datetime(2023, 10, 17, 0, 0), 'Price': '20250000'}, {'Product_ID': '1bc99e75-8448-4c20-b42a-fae1e065b632', 'Store_ID': 0, 'Date': datetime.datetime(2023, 10, 17, 0, 0), 'Price': '20860000'}, {'Product_ID': '7c24e65f-021b-41fb-8d38-dc7088745735', 'Store_ID': 0, 'Date': datetime.datetime(2023, 10, 17, 0, 0), 'Price': '25990000'}, {'Product_ID': '7c24e65f-021b-41fb-8d38-dc7088745735', 'Store_ID': 0, 'Date': datetime.datetime(2023, 10, 17, 0, 0), 'Price': '26100000'}  ... displaying 10 of 12726 total bound parameter sets ...  {'Product_ID': '05efff3d-1cb2-4481-938c-e39257f18d95', 'Store_ID': 711, 'Date': datetime.datetime(2023, 10, 17, 0, 0), 'Price': '18218000'}, {'Product_ID': '2bc92c93-3d18-433e-b0e4-27ab27841992', 'Store_ID': 711, 'Date': datetime.datetime(2023, 10, 17, 0, 0), 'Price': '34955000'})\n",
      "2023-10-29 05:30:26,156 INFO sqlalchemy.engine.Engine COMMIT\n"
     ]
    }
   ],
   "source": [
    "# Create a session to insert data into the tables\n",
    "Session = sessionmaker(bind=engine)\n",
    "session = Session()\n",
    "\n",
    "# Insert data from the DataFrame into publisher table\n",
    "df_product_price.to_sql('product_store', con=engine, if_exists='append', index=False)\n",
    "\n",
    "# Commit changes and close the session\n",
    "session.commit()\n",
    "session.close()"
   ],
   "metadata": {
    "collapsed": false,
    "pycharm": {
     "name": "#%%\n"
    }
   }
  },
  {
   "cell_type": "code",
   "execution_count": null,
   "outputs": [],
   "source": [],
   "metadata": {
    "collapsed": false,
    "pycharm": {
     "name": "#%%\n"
    }
   }
  }
 ],
 "metadata": {
  "kernelspec": {
   "display_name": "Python 3",
   "language": "python",
   "name": "python3"
  },
  "language_info": {
   "codemirror_mode": {
    "name": "ipython",
    "version": 2
   },
   "file_extension": ".py",
   "mimetype": "text/x-python",
   "name": "python",
   "nbconvert_exporter": "python",
   "pygments_lexer": "ipython2",
   "version": "2.7.6"
  }
 },
 "nbformat": 4,
 "nbformat_minor": 5
}